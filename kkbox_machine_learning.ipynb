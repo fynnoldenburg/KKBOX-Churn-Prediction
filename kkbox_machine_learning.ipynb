{
 "cells": [
  {
   "cell_type": "markdown",
   "metadata": {
    "collapsed": true,
    "pycharm": {
     "name": "#%% md\n"
    }
   },
   "source": [
    "# KKBOX Churn Prediction\n",
    "\n",
    "*Arabella Specker, Farouq El-Abbass, Fynn Oldenburg, Kevin Nguyen & Vaclav Pasek (Machine Learning 2487-2122_S2)*\n",
    "\n",
    "------------------------------------------------------------------------------------------------------------------------"
   ]
  },
  {
   "cell_type": "markdown",
   "source": [
    "For our project we will follow a pipeline workflow as introduced in class. The initial joining of our available data files and some feature aggregation has already been conducted externally in the file ../kkbox_data_understanding.ipynb due to the size of the data files. The output of that file is the raw churn data on customer granularity which we will use as input for our machine learning pipeline in this file."
   ],
   "metadata": {
    "collapsed": false,
    "pycharm": {
     "name": "#%% md\n"
    }
   }
  },
  {
   "cell_type": "markdown",
   "source": [
    "<img alt=\"alt text\" src=\"media/pipeline_workflow.png\" width=\"900\"/>"
   ],
   "metadata": {
    "collapsed": false,
    "pycharm": {
     "name": "#%% md\n"
    }
   }
  },
  {
   "cell_type": "code",
   "execution_count": 76,
   "outputs": [],
   "source": [
    "# Import packages\n",
    "import pandas as pd\n",
    "from sklearn.pipeline import Pipeline\n",
    "from sklearn.compose import ColumnTransformer\n",
    "from sklearn.tree import export_text\n",
    "from sklearn.model_selection import train_test_split\n",
    "from sklearn import metrics\n",
    "from sklearn.tree import DecisionTreeClassifier\n",
    "from sklearn.preprocessing import OneHotEncoder"
   ],
   "metadata": {
    "collapsed": false,
    "pycharm": {
     "name": "#%%\n"
    }
   }
  },
  {
   "cell_type": "markdown",
   "source": [
    "## 1. Data Preparation\n",
    "\n",
    "------------------------------------------------------------------------------------------------------------------------"
   ],
   "metadata": {
    "collapsed": false,
    "pycharm": {
     "name": "#%% md\n"
    }
   }
  },
  {
   "cell_type": "code",
   "execution_count": 26,
   "outputs": [
    {
     "data": {
      "text/plain": "            is_churn           city             bd  registered_via  \\\ncount  970960.000000  860967.000000  860967.000000   860967.000000   \nmean        0.089942       5.937295      13.583854        6.892744   \nstd         0.286099       6.441203      20.064040        1.937794   \nmin         0.000000       1.000000   -3152.000000        3.000000   \n25%         0.000000       1.000000       0.000000        7.000000   \n50%         0.000000       1.000000       0.000000        7.000000   \n75%         0.000000      13.000000      27.000000        9.000000   \nmax         1.000000      22.000000    2016.000000       13.000000   \n\n       registration_init_time  count_userlogs_last_month  num_25_last_month  \\\ncount            8.609670e+05              754551.000000      754551.000000   \nmean             2.013265e+07                  17.935095         108.773786   \nstd              3.011174e+04                   9.676949         179.003032   \nmin              2.004033e+07                   1.000000           0.000000   \n25%              2.012021e+07                   9.000000          19.000000   \n50%              2.014060e+07                  19.000000          55.000000   \n75%              2.016012e+07                  27.000000         133.000000   \nmax              2.017042e+07                  31.000000       46820.000000   \n\n       num_50_last_month  num_75_last_month  num_985_last_month  ...  \\\ncount      754551.000000      754551.000000       754551.000000  ...   \nmean           26.257260          16.545723           18.713420  ...   \nstd            38.707599          22.399375           41.691069  ...   \nmin             0.000000           0.000000            0.000000  ...   \n25%             5.000000           3.000000            3.000000  ...   \n50%            14.000000          10.000000           10.000000  ...   \n75%            33.000000          22.000000           23.000000  ...   \nmax          3163.000000        1310.000000        15164.000000  ...   \n\n       num_985_last_week  num_100_last_week  num_unq_last_week  \\\ncount      667498.000000      667498.000000      667498.000000   \nmean            5.459781         152.540436         147.539888   \nstd            12.573304         210.558298         167.310346   \nmin             0.000000           0.000000           1.000000   \n25%             1.000000          32.000000          38.000000   \n50%             3.000000          87.000000          96.000000   \n75%             7.000000         188.000000         196.000000   \nmax          4048.000000       16884.000000        4292.000000   \n\n       total_secs_last_week  avg_payment_plan_days  avg_plan_list_price  \\\ncount          6.674980e+05          933578.000000        933578.000000   \nmean           3.993535e+04              33.668171           144.078964   \nstd            5.134569e+04              31.539039           133.629682   \nmin            3.400000e-02               0.000000             0.000000   \n25%            9.159578e+03              30.000000            99.000000   \n50%            2.386404e+04              30.000000           149.000000   \n75%            5.018832e+04              30.000000           149.000000   \nmax            4.196711e+06             450.000000          2000.000000   \n\n       avg_actual_amount_paid  last_payment_method_id  last_is_auto_renew  \\\ncount           933578.000000           933578.000000       933578.000000   \nmean               143.761684               38.899789            0.912113   \nstd                133.723976                3.785421            0.283130   \nmin                  0.000000                3.000000            0.000000   \n25%                 99.000000               38.000000            1.000000   \n50%                149.000000               41.000000            1.000000   \n75%                149.000000               41.000000            1.000000   \nmax               2000.000000               41.000000            1.000000   \n\n       memberdays_left  \ncount    933578.000000  \nmean        332.568452  \nstd        2003.127209  \nmin         -74.000000  \n25%          99.000000  \n50%         100.000000  \n75%         100.000000  \nmax       79281.000000  \n\n[8 rows x 26 columns]",
      "text/html": "<div>\n<style scoped>\n    .dataframe tbody tr th:only-of-type {\n        vertical-align: middle;\n    }\n\n    .dataframe tbody tr th {\n        vertical-align: top;\n    }\n\n    .dataframe thead th {\n        text-align: right;\n    }\n</style>\n<table border=\"1\" class=\"dataframe\">\n  <thead>\n    <tr style=\"text-align: right;\">\n      <th></th>\n      <th>is_churn</th>\n      <th>city</th>\n      <th>bd</th>\n      <th>registered_via</th>\n      <th>registration_init_time</th>\n      <th>count_userlogs_last_month</th>\n      <th>num_25_last_month</th>\n      <th>num_50_last_month</th>\n      <th>num_75_last_month</th>\n      <th>num_985_last_month</th>\n      <th>...</th>\n      <th>num_985_last_week</th>\n      <th>num_100_last_week</th>\n      <th>num_unq_last_week</th>\n      <th>total_secs_last_week</th>\n      <th>avg_payment_plan_days</th>\n      <th>avg_plan_list_price</th>\n      <th>avg_actual_amount_paid</th>\n      <th>last_payment_method_id</th>\n      <th>last_is_auto_renew</th>\n      <th>memberdays_left</th>\n    </tr>\n  </thead>\n  <tbody>\n    <tr>\n      <th>count</th>\n      <td>970960.000000</td>\n      <td>860967.000000</td>\n      <td>860967.000000</td>\n      <td>860967.000000</td>\n      <td>8.609670e+05</td>\n      <td>754551.000000</td>\n      <td>754551.000000</td>\n      <td>754551.000000</td>\n      <td>754551.000000</td>\n      <td>754551.000000</td>\n      <td>...</td>\n      <td>667498.000000</td>\n      <td>667498.000000</td>\n      <td>667498.000000</td>\n      <td>6.674980e+05</td>\n      <td>933578.000000</td>\n      <td>933578.000000</td>\n      <td>933578.000000</td>\n      <td>933578.000000</td>\n      <td>933578.000000</td>\n      <td>933578.000000</td>\n    </tr>\n    <tr>\n      <th>mean</th>\n      <td>0.089942</td>\n      <td>5.937295</td>\n      <td>13.583854</td>\n      <td>6.892744</td>\n      <td>2.013265e+07</td>\n      <td>17.935095</td>\n      <td>108.773786</td>\n      <td>26.257260</td>\n      <td>16.545723</td>\n      <td>18.713420</td>\n      <td>...</td>\n      <td>5.459781</td>\n      <td>152.540436</td>\n      <td>147.539888</td>\n      <td>3.993535e+04</td>\n      <td>33.668171</td>\n      <td>144.078964</td>\n      <td>143.761684</td>\n      <td>38.899789</td>\n      <td>0.912113</td>\n      <td>332.568452</td>\n    </tr>\n    <tr>\n      <th>std</th>\n      <td>0.286099</td>\n      <td>6.441203</td>\n      <td>20.064040</td>\n      <td>1.937794</td>\n      <td>3.011174e+04</td>\n      <td>9.676949</td>\n      <td>179.003032</td>\n      <td>38.707599</td>\n      <td>22.399375</td>\n      <td>41.691069</td>\n      <td>...</td>\n      <td>12.573304</td>\n      <td>210.558298</td>\n      <td>167.310346</td>\n      <td>5.134569e+04</td>\n      <td>31.539039</td>\n      <td>133.629682</td>\n      <td>133.723976</td>\n      <td>3.785421</td>\n      <td>0.283130</td>\n      <td>2003.127209</td>\n    </tr>\n    <tr>\n      <th>min</th>\n      <td>0.000000</td>\n      <td>1.000000</td>\n      <td>-3152.000000</td>\n      <td>3.000000</td>\n      <td>2.004033e+07</td>\n      <td>1.000000</td>\n      <td>0.000000</td>\n      <td>0.000000</td>\n      <td>0.000000</td>\n      <td>0.000000</td>\n      <td>...</td>\n      <td>0.000000</td>\n      <td>0.000000</td>\n      <td>1.000000</td>\n      <td>3.400000e-02</td>\n      <td>0.000000</td>\n      <td>0.000000</td>\n      <td>0.000000</td>\n      <td>3.000000</td>\n      <td>0.000000</td>\n      <td>-74.000000</td>\n    </tr>\n    <tr>\n      <th>25%</th>\n      <td>0.000000</td>\n      <td>1.000000</td>\n      <td>0.000000</td>\n      <td>7.000000</td>\n      <td>2.012021e+07</td>\n      <td>9.000000</td>\n      <td>19.000000</td>\n      <td>5.000000</td>\n      <td>3.000000</td>\n      <td>3.000000</td>\n      <td>...</td>\n      <td>1.000000</td>\n      <td>32.000000</td>\n      <td>38.000000</td>\n      <td>9.159578e+03</td>\n      <td>30.000000</td>\n      <td>99.000000</td>\n      <td>99.000000</td>\n      <td>38.000000</td>\n      <td>1.000000</td>\n      <td>99.000000</td>\n    </tr>\n    <tr>\n      <th>50%</th>\n      <td>0.000000</td>\n      <td>1.000000</td>\n      <td>0.000000</td>\n      <td>7.000000</td>\n      <td>2.014060e+07</td>\n      <td>19.000000</td>\n      <td>55.000000</td>\n      <td>14.000000</td>\n      <td>10.000000</td>\n      <td>10.000000</td>\n      <td>...</td>\n      <td>3.000000</td>\n      <td>87.000000</td>\n      <td>96.000000</td>\n      <td>2.386404e+04</td>\n      <td>30.000000</td>\n      <td>149.000000</td>\n      <td>149.000000</td>\n      <td>41.000000</td>\n      <td>1.000000</td>\n      <td>100.000000</td>\n    </tr>\n    <tr>\n      <th>75%</th>\n      <td>0.000000</td>\n      <td>13.000000</td>\n      <td>27.000000</td>\n      <td>9.000000</td>\n      <td>2.016012e+07</td>\n      <td>27.000000</td>\n      <td>133.000000</td>\n      <td>33.000000</td>\n      <td>22.000000</td>\n      <td>23.000000</td>\n      <td>...</td>\n      <td>7.000000</td>\n      <td>188.000000</td>\n      <td>196.000000</td>\n      <td>5.018832e+04</td>\n      <td>30.000000</td>\n      <td>149.000000</td>\n      <td>149.000000</td>\n      <td>41.000000</td>\n      <td>1.000000</td>\n      <td>100.000000</td>\n    </tr>\n    <tr>\n      <th>max</th>\n      <td>1.000000</td>\n      <td>22.000000</td>\n      <td>2016.000000</td>\n      <td>13.000000</td>\n      <td>2.017042e+07</td>\n      <td>31.000000</td>\n      <td>46820.000000</td>\n      <td>3163.000000</td>\n      <td>1310.000000</td>\n      <td>15164.000000</td>\n      <td>...</td>\n      <td>4048.000000</td>\n      <td>16884.000000</td>\n      <td>4292.000000</td>\n      <td>4.196711e+06</td>\n      <td>450.000000</td>\n      <td>2000.000000</td>\n      <td>2000.000000</td>\n      <td>41.000000</td>\n      <td>1.000000</td>\n      <td>79281.000000</td>\n    </tr>\n  </tbody>\n</table>\n<p>8 rows × 26 columns</p>\n</div>"
     },
     "execution_count": 26,
     "metadata": {},
     "output_type": "execute_result"
    }
   ],
   "source": [
    "# Path to folder containing data file\n",
    "path = \"/Users/fynn/Desktop/ML/KKBOX-Data/\"\n",
    "\n",
    "# Import raw data\n",
    "kkbox_df = pd.read_csv(path + \"kkbox_churn.csv\")\n",
    "\n",
    "kkbox_df.describe()"
   ],
   "metadata": {
    "collapsed": false,
    "pycharm": {
     "name": "#%%\n"
    }
   }
  },
  {
   "cell_type": "markdown",
   "source": [
    "## 1.1. Missing Values"
   ],
   "metadata": {
    "collapsed": false,
    "pycharm": {
     "name": "#%% md\n"
    }
   }
  },
  {
   "cell_type": "code",
   "execution_count": 23,
   "outputs": [
    {
     "name": "stdout",
     "output_type": "stream",
     "text": [
      "msno                              0\n",
      "is_churn                          0\n",
      "city                         109993\n",
      "bd                           109993\n",
      "gender                       582055\n",
      "registered_via               109993\n",
      "registration_init_time       109993\n",
      "count_userlogs_last_month    216409\n",
      "num_25_last_month            216409\n",
      "num_50_last_month            216409\n",
      "num_75_last_month            216409\n",
      "num_985_last_month           216409\n",
      "num_100_last_month           216409\n",
      "num_unq_last_month           216409\n",
      "total_secs_last_month        216409\n",
      "num_25_last_week             303462\n",
      "num_50_last_week             303462\n",
      "num_75_last_week             303462\n",
      "num_985_last_week            303462\n",
      "num_100_last_week            303462\n",
      "num_unq_last_week            303462\n",
      "total_secs_last_week         303462\n",
      "avg_payment_plan_days         37382\n",
      "avg_plan_list_price           37382\n",
      "avg_actual_amount_paid        37382\n",
      "last_payment_method_id        37382\n",
      "last_is_auto_renew            37382\n",
      "memberdays_left               37382\n",
      "dtype: int64\n",
      "\n",
      "Number of rows when removing all NaN: 319988\n",
      "\n",
      "Number of rows when removing all NaN without gender: 656435\n"
     ]
    }
   ],
   "source": [
    "# Get counts of missing values\n",
    "print(kkbox_df.isna().sum())\n",
    "\n",
    "# Get number of rows if we would remove all NaN\n",
    "print(\"\\nNumber of rows when removing all NaN:\", len(kkbox_df.dropna().index))\n",
    "\n",
    "# Get number of rows if we would remove all NaN after dropping gender\n",
    "print(\"\\nNumber of rows when removing all NaN without gender:\",\n",
    "      len(kkbox_df.drop(\"gender\", axis=1).dropna().index))"
   ],
   "metadata": {
    "collapsed": false,
    "pycharm": {
     "name": "#%%\n"
    }
   }
  },
  {
   "cell_type": "markdown",
   "source": [
    "Some features have large amounts of missing values. Especially gender is missing data for almost two thirds of the instances. If we would remove all instances with any missing value we would end up with a data set size of 319.988 rows out of 970.960 rows in the beginning. We assume that gender should not have a significant predictive effect on the customer churn rate and exclude it in order to preserve 336.447 additional instances.\n",
    "\n",
    "We can preserve another 168.933 instances by looking in detail at the features extracted from the user activity log per month (..._last_month) and week (..._last_week). We can assume that the customers who have values for the \"last month\" features but no values for the \"last week\" features did not have any activity in the last week. Furthermore, if a customer has only missing values for the month and the week features this means that there are no user logs available for the last month. Consequently, instead of just dropping the customers with missing user log information, we can **replace the missing values by 0** indicating no user activity in the last month or week."
   ],
   "metadata": {
    "collapsed": false,
    "pycharm": {
     "name": "#%% md\n"
    }
   }
  },
  {
   "cell_type": "code",
   "execution_count": null,
   "outputs": [],
   "source": [
    "# WITHOUT PIPELINE !\n",
    "\n",
    "# HANDLE MISSING VALUES --------------------------------------------------------\n",
    "\n",
    "# Drop gender to preserve 336.447 rows\n",
    "kkbox_df_clean = kkbox_df.drop(\"gender\", axis=1)\n",
    "\n",
    "# Fill missing values indicating no customer activity with zeros to preserve 168.933 rows\n",
    "month_week_cols = kkbox_df_clean.filter(regex=\"month|week\").columns\n",
    "kkbox_df_clean[month_week_cols] = kkbox_df_clean[month_week_cols].fillna(0)\n",
    "\n",
    "# Drop rows with missing values\n",
    "kkbox_df_clean = kkbox_df_clean.dropna()\n",
    "\n",
    "print(\"Size of NA cleaned dataset:\", len(kkbox_df_clean.index))"
   ],
   "metadata": {
    "collapsed": false,
    "pycharm": {
     "name": "#%%\n"
    }
   }
  },
  {
   "cell_type": "markdown",
   "source": [
    "## 1.2. Handle Categorical Variables"
   ],
   "metadata": {
    "collapsed": false,
    "pycharm": {
     "name": "#%% md\n"
    }
   }
  },
  {
   "cell_type": "code",
   "execution_count": 67,
   "outputs": [
    {
     "data": {
      "text/plain": "        is_churn  bd  registration_init_time  count_userlogs_last_month  \\\n0              1  20                20131223                          6   \n1              1  18                20131227                         20   \n2              1   0                20140109                          0   \n3              1  35                20140125                         15   \n4              1   0                20140126                          4   \n...          ...  ..                     ...                        ...   \n825363         0  25                20110830                         24   \n825364         0  28                20110831                         24   \n825365         0   0                20110903                          5   \n825366         0   0                20110905                          0   \n825367         0  25                20110905                         23   \n\n        num_25_last_month  num_50_last_month  num_75_last_month  \\\n0                       0                  4                  2   \n1                     239                 57                 32   \n2                       0                  0                  0   \n3                       9                  7                  4   \n4                       6                  1                  1   \n...                   ...                ...                ...   \n825363                117                 26                 30   \n825364                 48                  7                  4   \n825365                 43                  8                  8   \n825366                  0                  0                  0   \n825367                 33                 10                  6   \n\n        num_985_last_month  num_100_last_month  num_unq_last_month  ...  \\\n0                        0                  26                  30  ...   \n1                       22                 205                 432  ...   \n2                        0                   0                   0  ...   \n3                        4                 962                 548  ...   \n4                        4                  37                  48  ...   \n...                    ...                 ...                 ...  ...   \n825363                  25                 461                 429  ...   \n825364                   9                 318                 291  ...   \n825365                   7                  22                  54  ...   \n825366                   0                   0                   0  ...   \n825367                  10                 336                 309  ...   \n\n        last_payment_method_id_32  last_payment_method_id_33  \\\n0                               0                          0   \n1                               0                          0   \n2                               0                          0   \n3                               0                          0   \n4                               0                          0   \n...                           ...                        ...   \n825363                          0                          0   \n825364                          0                          0   \n825365                          0                          0   \n825366                          0                          0   \n825367                          0                          0   \n\n        last_payment_method_id_34  last_payment_method_id_35  \\\n0                               0                          0   \n1                               0                          0   \n2                               0                          0   \n3                               0                          0   \n4                               0                          0   \n...                           ...                        ...   \n825363                          0                          0   \n825364                          0                          0   \n825365                          0                          0   \n825366                          0                          0   \n825367                          0                          0   \n\n        last_payment_method_id_36  last_payment_method_id_37  \\\n0                               1                          0   \n1                               0                          0   \n2                               0                          0   \n3                               0                          0   \n4                               0                          0   \n...                           ...                        ...   \n825363                          0                          0   \n825364                          0                          0   \n825365                          0                          0   \n825366                          0                          0   \n825367                          0                          0   \n\n        last_payment_method_id_38  last_payment_method_id_39  \\\n0                               0                          0   \n1                               0                          0   \n2                               0                          0   \n3                               0                          0   \n4                               0                          0   \n...                           ...                        ...   \n825363                          0                          0   \n825364                          0                          0   \n825365                          0                          0   \n825366                          0                          0   \n825367                          0                          1   \n\n        last_payment_method_id_40  last_payment_method_id_41  \n0                               0                          0  \n1                               0                          0  \n2                               0                          1  \n3                               0                          1  \n4                               1                          0  \n...                           ...                        ...  \n825363                          0                          1  \n825364                          1                          0  \n825365                          0                          1  \n825366                          0                          1  \n825367                          0                          0  \n\n[825368 rows x 82 columns]",
      "text/html": "<div>\n<style scoped>\n    .dataframe tbody tr th:only-of-type {\n        vertical-align: middle;\n    }\n\n    .dataframe tbody tr th {\n        vertical-align: top;\n    }\n\n    .dataframe thead th {\n        text-align: right;\n    }\n</style>\n<table border=\"1\" class=\"dataframe\">\n  <thead>\n    <tr style=\"text-align: right;\">\n      <th></th>\n      <th>is_churn</th>\n      <th>bd</th>\n      <th>registration_init_time</th>\n      <th>count_userlogs_last_month</th>\n      <th>num_25_last_month</th>\n      <th>num_50_last_month</th>\n      <th>num_75_last_month</th>\n      <th>num_985_last_month</th>\n      <th>num_100_last_month</th>\n      <th>num_unq_last_month</th>\n      <th>...</th>\n      <th>last_payment_method_id_32</th>\n      <th>last_payment_method_id_33</th>\n      <th>last_payment_method_id_34</th>\n      <th>last_payment_method_id_35</th>\n      <th>last_payment_method_id_36</th>\n      <th>last_payment_method_id_37</th>\n      <th>last_payment_method_id_38</th>\n      <th>last_payment_method_id_39</th>\n      <th>last_payment_method_id_40</th>\n      <th>last_payment_method_id_41</th>\n    </tr>\n  </thead>\n  <tbody>\n    <tr>\n      <th>0</th>\n      <td>1</td>\n      <td>20</td>\n      <td>20131223</td>\n      <td>6</td>\n      <td>0</td>\n      <td>4</td>\n      <td>2</td>\n      <td>0</td>\n      <td>26</td>\n      <td>30</td>\n      <td>...</td>\n      <td>0</td>\n      <td>0</td>\n      <td>0</td>\n      <td>0</td>\n      <td>1</td>\n      <td>0</td>\n      <td>0</td>\n      <td>0</td>\n      <td>0</td>\n      <td>0</td>\n    </tr>\n    <tr>\n      <th>1</th>\n      <td>1</td>\n      <td>18</td>\n      <td>20131227</td>\n      <td>20</td>\n      <td>239</td>\n      <td>57</td>\n      <td>32</td>\n      <td>22</td>\n      <td>205</td>\n      <td>432</td>\n      <td>...</td>\n      <td>0</td>\n      <td>0</td>\n      <td>0</td>\n      <td>0</td>\n      <td>0</td>\n      <td>0</td>\n      <td>0</td>\n      <td>0</td>\n      <td>0</td>\n      <td>0</td>\n    </tr>\n    <tr>\n      <th>2</th>\n      <td>1</td>\n      <td>0</td>\n      <td>20140109</td>\n      <td>0</td>\n      <td>0</td>\n      <td>0</td>\n      <td>0</td>\n      <td>0</td>\n      <td>0</td>\n      <td>0</td>\n      <td>...</td>\n      <td>0</td>\n      <td>0</td>\n      <td>0</td>\n      <td>0</td>\n      <td>0</td>\n      <td>0</td>\n      <td>0</td>\n      <td>0</td>\n      <td>0</td>\n      <td>1</td>\n    </tr>\n    <tr>\n      <th>3</th>\n      <td>1</td>\n      <td>35</td>\n      <td>20140125</td>\n      <td>15</td>\n      <td>9</td>\n      <td>7</td>\n      <td>4</td>\n      <td>4</td>\n      <td>962</td>\n      <td>548</td>\n      <td>...</td>\n      <td>0</td>\n      <td>0</td>\n      <td>0</td>\n      <td>0</td>\n      <td>0</td>\n      <td>0</td>\n      <td>0</td>\n      <td>0</td>\n      <td>0</td>\n      <td>1</td>\n    </tr>\n    <tr>\n      <th>4</th>\n      <td>1</td>\n      <td>0</td>\n      <td>20140126</td>\n      <td>4</td>\n      <td>6</td>\n      <td>1</td>\n      <td>1</td>\n      <td>4</td>\n      <td>37</td>\n      <td>48</td>\n      <td>...</td>\n      <td>0</td>\n      <td>0</td>\n      <td>0</td>\n      <td>0</td>\n      <td>0</td>\n      <td>0</td>\n      <td>0</td>\n      <td>0</td>\n      <td>1</td>\n      <td>0</td>\n    </tr>\n    <tr>\n      <th>...</th>\n      <td>...</td>\n      <td>...</td>\n      <td>...</td>\n      <td>...</td>\n      <td>...</td>\n      <td>...</td>\n      <td>...</td>\n      <td>...</td>\n      <td>...</td>\n      <td>...</td>\n      <td>...</td>\n      <td>...</td>\n      <td>...</td>\n      <td>...</td>\n      <td>...</td>\n      <td>...</td>\n      <td>...</td>\n      <td>...</td>\n      <td>...</td>\n      <td>...</td>\n      <td>...</td>\n    </tr>\n    <tr>\n      <th>825363</th>\n      <td>0</td>\n      <td>25</td>\n      <td>20110830</td>\n      <td>24</td>\n      <td>117</td>\n      <td>26</td>\n      <td>30</td>\n      <td>25</td>\n      <td>461</td>\n      <td>429</td>\n      <td>...</td>\n      <td>0</td>\n      <td>0</td>\n      <td>0</td>\n      <td>0</td>\n      <td>0</td>\n      <td>0</td>\n      <td>0</td>\n      <td>0</td>\n      <td>0</td>\n      <td>1</td>\n    </tr>\n    <tr>\n      <th>825364</th>\n      <td>0</td>\n      <td>28</td>\n      <td>20110831</td>\n      <td>24</td>\n      <td>48</td>\n      <td>7</td>\n      <td>4</td>\n      <td>9</td>\n      <td>318</td>\n      <td>291</td>\n      <td>...</td>\n      <td>0</td>\n      <td>0</td>\n      <td>0</td>\n      <td>0</td>\n      <td>0</td>\n      <td>0</td>\n      <td>0</td>\n      <td>0</td>\n      <td>1</td>\n      <td>0</td>\n    </tr>\n    <tr>\n      <th>825365</th>\n      <td>0</td>\n      <td>0</td>\n      <td>20110903</td>\n      <td>5</td>\n      <td>43</td>\n      <td>8</td>\n      <td>8</td>\n      <td>7</td>\n      <td>22</td>\n      <td>54</td>\n      <td>...</td>\n      <td>0</td>\n      <td>0</td>\n      <td>0</td>\n      <td>0</td>\n      <td>0</td>\n      <td>0</td>\n      <td>0</td>\n      <td>0</td>\n      <td>0</td>\n      <td>1</td>\n    </tr>\n    <tr>\n      <th>825366</th>\n      <td>0</td>\n      <td>0</td>\n      <td>20110905</td>\n      <td>0</td>\n      <td>0</td>\n      <td>0</td>\n      <td>0</td>\n      <td>0</td>\n      <td>0</td>\n      <td>0</td>\n      <td>...</td>\n      <td>0</td>\n      <td>0</td>\n      <td>0</td>\n      <td>0</td>\n      <td>0</td>\n      <td>0</td>\n      <td>0</td>\n      <td>0</td>\n      <td>0</td>\n      <td>1</td>\n    </tr>\n    <tr>\n      <th>825367</th>\n      <td>0</td>\n      <td>25</td>\n      <td>20110905</td>\n      <td>23</td>\n      <td>33</td>\n      <td>10</td>\n      <td>6</td>\n      <td>10</td>\n      <td>336</td>\n      <td>309</td>\n      <td>...</td>\n      <td>0</td>\n      <td>0</td>\n      <td>0</td>\n      <td>0</td>\n      <td>0</td>\n      <td>0</td>\n      <td>0</td>\n      <td>1</td>\n      <td>0</td>\n      <td>0</td>\n    </tr>\n  </tbody>\n</table>\n<p>825368 rows × 82 columns</p>\n</div>"
     },
     "execution_count": 67,
     "metadata": {},
     "output_type": "execute_result"
    }
   ],
   "source": [
    "# WITHOUT PIPELINE !\n",
    "\n",
    "# HANDLE FEATURE TYPES ---------------------------------------------------------\n",
    "\n",
    "# Round all features\n",
    "kkbox_df_clean.iloc[:,2:] = round(kkbox_df_clean.iloc[:,2:]).astype(\"int64\")\n",
    "\n",
    "\n",
    "# HANDLE CATEGORICAL FEATURES --------------------------------------------------\n",
    "\n",
    "# Set correct types of categorical variables\n",
    "cat_feats = [\"city\", \"registered_via\", \"last_payment_method_id\"]\n",
    "kkbox_df_clean[cat_feats] = kkbox_df_clean[cat_feats].astype(\"category\")\n",
    "\n",
    "# One-hot encoding\n",
    "encoder = OneHotEncoder(sparse=False)\n",
    "cat_feats_onehot = encoder.fit_transform(kkbox_df_clean[cat_feats])\n",
    "df_cat_feats_onehot = pd.DataFrame(cat_feats_onehot).astype(\"int64\")\n",
    "df_cat_feats_onehot.columns = encoder.get_feature_names(cat_feats)\n",
    "\n",
    "# Append one-hot encoded features to data frame\n",
    "kkbox_df_clean = pd.concat([kkbox_df_clean.reset_index(), df_cat_feats_onehot], axis=1)\n",
    "\n",
    "# Remove not needed columns\n",
    "kkbox_df_clean = kkbox_df_clean.drop([\"index\", \"msno\"] + cat_feats, axis=1)\n",
    "kkbox_df_clean"
   ],
   "metadata": {
    "collapsed": false,
    "pycharm": {
     "name": "#%%\n"
    }
   }
  },
  {
   "cell_type": "markdown",
   "source": [
    "## 2. Modeling\n",
    "\n",
    "------------------------------------------------------------------------------------------------------------------------"
   ],
   "metadata": {
    "collapsed": false,
    "pycharm": {
     "name": "#%% md\n"
    }
   }
  },
  {
   "cell_type": "code",
   "execution_count": 77,
   "outputs": [
    {
     "name": "stdout",
     "output_type": "stream",
     "text": [
      "|--- memberdays_left <= 200.50\n",
      "|   |--- memberdays_left <= 26.50\n",
      "|   |   |--- total_secs_last_week <= 913.00\n",
      "|   |   |   |--- class: 1\n",
      "|   |   |--- total_secs_last_week >  913.00\n",
      "|   |   |   |--- class: 0\n",
      "|   |--- memberdays_left >  26.50\n",
      "|   |   |--- avg_actual_amount_paid <= 16.50\n",
      "|   |   |   |--- class: 1\n",
      "|   |   |--- avg_actual_amount_paid >  16.50\n",
      "|   |   |   |--- class: 0\n",
      "|--- memberdays_left >  200.50\n",
      "|   |--- memberdays_left <= 19199.50\n",
      "|   |   |--- memberdays_left <= 202.50\n",
      "|   |   |   |--- class: 0\n",
      "|   |   |--- memberdays_left >  202.50\n",
      "|   |   |   |--- class: 1\n",
      "|   |--- memberdays_left >  19199.50\n",
      "|   |   |--- count_userlogs_last_month <= 0.50\n",
      "|   |   |   |--- class: 1\n",
      "|   |   |--- count_userlogs_last_month >  0.50\n",
      "|   |   |   |--- class: 0\n",
      "\n"
     ]
    }
   ],
   "source": [
    "# Split data\n",
    "X = kkbox_df_clean.drop(\"is_churn\", axis=1)\n",
    "y = kkbox_df_clean[\"is_churn\"]\n",
    "\n",
    "X_train, X_test, y_train, y_test = train_test_split(X, y, test_size=0.2, random_state=42)\n",
    "\n",
    "# Train decision tree model\n",
    "clf = DecisionTreeClassifier(max_depth =3, random_state = 42)\n",
    "clf.fit(X_train, y_train)\n",
    "\n",
    "# Predict test data\n",
    "y_test_pred = clf.predict(X_test)\n",
    "\n",
    "\n",
    "# EXPORT DECISION RULES --------------------------------------------------------\n",
    "\n",
    "tree_rules = export_text(clf, feature_names = list(X.columns))\n",
    "print(tree_rules)"
   ],
   "metadata": {
    "collapsed": false,
    "pycharm": {
     "name": "#%%\n"
    }
   }
  },
  {
   "cell_type": "markdown",
   "source": [
    "## 3. Model Evaluation\n",
    "\n",
    "------------------------------------------------------------------------------------------------------------------------"
   ],
   "metadata": {
    "collapsed": false,
    "pycharm": {
     "name": "#%% md\n"
    }
   }
  },
  {
   "cell_type": "code",
   "execution_count": 75,
   "outputs": [
    {
     "name": "stdout",
     "output_type": "stream",
     "text": [
      "Accuracy score:  0.9726304566436871\n",
      "Recall score:    0.6273888319194556\n",
      "Precision score: 0.92814784167701\n"
     ]
    }
   ],
   "source": [
    "accuracy = metrics.accuracy_score(y_test, y_test_pred)\n",
    "print(\"Accuracy score: \", accuracy)\n",
    "\n",
    "recall = metrics.recall_score(y_test, y_test_pred)\n",
    "print(\"Recall score:   \", recall)\n",
    "\n",
    "precision = metrics.precision_score(y_test, y_test_pred)\n",
    "print(\"Precision score:\", precision)"
   ],
   "metadata": {
    "collapsed": false,
    "pycharm": {
     "name": "#%%\n"
    }
   }
  },
  {
   "cell_type": "code",
   "execution_count": null,
   "outputs": [],
   "source": [],
   "metadata": {
    "collapsed": false,
    "pycharm": {
     "name": "#%%\n"
    }
   }
  }
 ],
 "metadata": {
  "kernelspec": {
   "display_name": "Python 3",
   "language": "python",
   "name": "python3"
  },
  "language_info": {
   "codemirror_mode": {
    "name": "ipython",
    "version": 2
   },
   "file_extension": ".py",
   "mimetype": "text/x-python",
   "name": "python",
   "nbconvert_exporter": "python",
   "pygments_lexer": "ipython2",
   "version": "2.7.6"
  }
 },
 "nbformat": 4,
 "nbformat_minor": 0
}