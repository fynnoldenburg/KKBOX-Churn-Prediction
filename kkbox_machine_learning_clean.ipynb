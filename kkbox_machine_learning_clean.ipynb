{
 "cells": [
  {
   "cell_type": "code",
   "execution_count": 17,
   "outputs": [],
   "source": [
    "# Import packages\n",
    "import pandas as pd\n",
    "import numpy as np\n",
    "import matplotlib.pyplot as plt\n",
    "from sklearn import preprocessing\n",
    "from sklearn.decomposition import PCA\n",
    "from sklearn.manifold import TSNE"
   ],
   "metadata": {
    "collapsed": false,
    "pycharm": {
     "name": "#%%\n"
    }
   }
  },
  {
   "cell_type": "markdown",
   "source": [
    "# 0 Business Context and Approach (Arabella)"
   ],
   "metadata": {
    "collapsed": false
   }
  },
  {
   "cell_type": "markdown",
   "source": [
    "# 1 Exploratory Data Analysis (Kevin)"
   ],
   "metadata": {
    "collapsed": false,
    "pycharm": {
     "name": "#%% md\n"
    }
   }
  },
  {
   "cell_type": "markdown",
   "source": [
    "## 1.1 Summary Statistics"
   ],
   "metadata": {
    "collapsed": false,
    "pycharm": {
     "name": "#%% md\n"
    }
   }
  },
  {
   "cell_type": "code",
   "execution_count": 2,
   "outputs": [
    {
     "data": {
      "text/plain": "            is_churn           city             bd  registered_via  \\\ncount  970960.000000  860967.000000  860967.000000   860967.000000   \nmean        0.089942       5.937295      13.583854        6.892744   \nstd         0.286099       6.441203      20.064040        1.937794   \nmin         0.000000       1.000000   -3152.000000        3.000000   \n25%         0.000000       1.000000       0.000000        7.000000   \n50%         0.000000       1.000000       0.000000        7.000000   \n75%         0.000000      13.000000      27.000000        9.000000   \nmax         1.000000      22.000000    2016.000000       13.000000   \n\n       registration_init_time  count_userlogs_last_month  num_25_last_month  \\\ncount            8.609670e+05              754551.000000      754551.000000   \nmean             2.013265e+07                  17.935095         108.773786   \nstd              3.011174e+04                   9.676949         179.003032   \nmin              2.004033e+07                   1.000000           0.000000   \n25%              2.012021e+07                   9.000000          19.000000   \n50%              2.014060e+07                  19.000000          55.000000   \n75%              2.016012e+07                  27.000000         133.000000   \nmax              2.017042e+07                  31.000000       46820.000000   \n\n       num_50_last_month  num_75_last_month  num_985_last_month  ...  \\\ncount      754551.000000      754551.000000       754551.000000  ...   \nmean           26.257260          16.545723           18.713420  ...   \nstd            38.707599          22.399375           41.691069  ...   \nmin             0.000000           0.000000            0.000000  ...   \n25%             5.000000           3.000000            3.000000  ...   \n50%            14.000000          10.000000           10.000000  ...   \n75%            33.000000          22.000000           23.000000  ...   \nmax          3163.000000        1310.000000        15164.000000  ...   \n\n       num_985_last_week  num_100_last_week  num_unq_last_week  \\\ncount      667498.000000      667498.000000      667498.000000   \nmean            5.459781         152.540436         147.539888   \nstd            12.573304         210.558298         167.310346   \nmin             0.000000           0.000000           1.000000   \n25%             1.000000          32.000000          38.000000   \n50%             3.000000          87.000000          96.000000   \n75%             7.000000         188.000000         196.000000   \nmax          4048.000000       16884.000000        4292.000000   \n\n       total_secs_last_week  avg_payment_plan_days  avg_plan_list_price  \\\ncount          6.674980e+05          933578.000000        933578.000000   \nmean           3.993535e+04              33.668171           144.078964   \nstd            5.134569e+04              31.539039           133.629682   \nmin            3.400000e-02               0.000000             0.000000   \n25%            9.159578e+03              30.000000            99.000000   \n50%            2.386404e+04              30.000000           149.000000   \n75%            5.018832e+04              30.000000           149.000000   \nmax            4.196711e+06             450.000000          2000.000000   \n\n       avg_actual_amount_paid  last_payment_method_id  last_is_auto_renew  \\\ncount           933578.000000           933578.000000       933578.000000   \nmean               143.761684               38.899789            0.912113   \nstd                133.723976                3.785421            0.283130   \nmin                  0.000000                3.000000            0.000000   \n25%                 99.000000               38.000000            1.000000   \n50%                149.000000               41.000000            1.000000   \n75%                149.000000               41.000000            1.000000   \nmax               2000.000000               41.000000            1.000000   \n\n       memberdays_left  \ncount    933578.000000  \nmean        332.568452  \nstd        2003.127209  \nmin         -74.000000  \n25%          99.000000  \n50%         100.000000  \n75%         100.000000  \nmax       79281.000000  \n\n[8 rows x 26 columns]",
      "text/html": "<div>\n<style scoped>\n    .dataframe tbody tr th:only-of-type {\n        vertical-align: middle;\n    }\n\n    .dataframe tbody tr th {\n        vertical-align: top;\n    }\n\n    .dataframe thead th {\n        text-align: right;\n    }\n</style>\n<table border=\"1\" class=\"dataframe\">\n  <thead>\n    <tr style=\"text-align: right;\">\n      <th></th>\n      <th>is_churn</th>\n      <th>city</th>\n      <th>bd</th>\n      <th>registered_via</th>\n      <th>registration_init_time</th>\n      <th>count_userlogs_last_month</th>\n      <th>num_25_last_month</th>\n      <th>num_50_last_month</th>\n      <th>num_75_last_month</th>\n      <th>num_985_last_month</th>\n      <th>...</th>\n      <th>num_985_last_week</th>\n      <th>num_100_last_week</th>\n      <th>num_unq_last_week</th>\n      <th>total_secs_last_week</th>\n      <th>avg_payment_plan_days</th>\n      <th>avg_plan_list_price</th>\n      <th>avg_actual_amount_paid</th>\n      <th>last_payment_method_id</th>\n      <th>last_is_auto_renew</th>\n      <th>memberdays_left</th>\n    </tr>\n  </thead>\n  <tbody>\n    <tr>\n      <th>count</th>\n      <td>970960.000000</td>\n      <td>860967.000000</td>\n      <td>860967.000000</td>\n      <td>860967.000000</td>\n      <td>8.609670e+05</td>\n      <td>754551.000000</td>\n      <td>754551.000000</td>\n      <td>754551.000000</td>\n      <td>754551.000000</td>\n      <td>754551.000000</td>\n      <td>...</td>\n      <td>667498.000000</td>\n      <td>667498.000000</td>\n      <td>667498.000000</td>\n      <td>6.674980e+05</td>\n      <td>933578.000000</td>\n      <td>933578.000000</td>\n      <td>933578.000000</td>\n      <td>933578.000000</td>\n      <td>933578.000000</td>\n      <td>933578.000000</td>\n    </tr>\n    <tr>\n      <th>mean</th>\n      <td>0.089942</td>\n      <td>5.937295</td>\n      <td>13.583854</td>\n      <td>6.892744</td>\n      <td>2.013265e+07</td>\n      <td>17.935095</td>\n      <td>108.773786</td>\n      <td>26.257260</td>\n      <td>16.545723</td>\n      <td>18.713420</td>\n      <td>...</td>\n      <td>5.459781</td>\n      <td>152.540436</td>\n      <td>147.539888</td>\n      <td>3.993535e+04</td>\n      <td>33.668171</td>\n      <td>144.078964</td>\n      <td>143.761684</td>\n      <td>38.899789</td>\n      <td>0.912113</td>\n      <td>332.568452</td>\n    </tr>\n    <tr>\n      <th>std</th>\n      <td>0.286099</td>\n      <td>6.441203</td>\n      <td>20.064040</td>\n      <td>1.937794</td>\n      <td>3.011174e+04</td>\n      <td>9.676949</td>\n      <td>179.003032</td>\n      <td>38.707599</td>\n      <td>22.399375</td>\n      <td>41.691069</td>\n      <td>...</td>\n      <td>12.573304</td>\n      <td>210.558298</td>\n      <td>167.310346</td>\n      <td>5.134569e+04</td>\n      <td>31.539039</td>\n      <td>133.629682</td>\n      <td>133.723976</td>\n      <td>3.785421</td>\n      <td>0.283130</td>\n      <td>2003.127209</td>\n    </tr>\n    <tr>\n      <th>min</th>\n      <td>0.000000</td>\n      <td>1.000000</td>\n      <td>-3152.000000</td>\n      <td>3.000000</td>\n      <td>2.004033e+07</td>\n      <td>1.000000</td>\n      <td>0.000000</td>\n      <td>0.000000</td>\n      <td>0.000000</td>\n      <td>0.000000</td>\n      <td>...</td>\n      <td>0.000000</td>\n      <td>0.000000</td>\n      <td>1.000000</td>\n      <td>3.400000e-02</td>\n      <td>0.000000</td>\n      <td>0.000000</td>\n      <td>0.000000</td>\n      <td>3.000000</td>\n      <td>0.000000</td>\n      <td>-74.000000</td>\n    </tr>\n    <tr>\n      <th>25%</th>\n      <td>0.000000</td>\n      <td>1.000000</td>\n      <td>0.000000</td>\n      <td>7.000000</td>\n      <td>2.012021e+07</td>\n      <td>9.000000</td>\n      <td>19.000000</td>\n      <td>5.000000</td>\n      <td>3.000000</td>\n      <td>3.000000</td>\n      <td>...</td>\n      <td>1.000000</td>\n      <td>32.000000</td>\n      <td>38.000000</td>\n      <td>9.159578e+03</td>\n      <td>30.000000</td>\n      <td>99.000000</td>\n      <td>99.000000</td>\n      <td>38.000000</td>\n      <td>1.000000</td>\n      <td>99.000000</td>\n    </tr>\n    <tr>\n      <th>50%</th>\n      <td>0.000000</td>\n      <td>1.000000</td>\n      <td>0.000000</td>\n      <td>7.000000</td>\n      <td>2.014060e+07</td>\n      <td>19.000000</td>\n      <td>55.000000</td>\n      <td>14.000000</td>\n      <td>10.000000</td>\n      <td>10.000000</td>\n      <td>...</td>\n      <td>3.000000</td>\n      <td>87.000000</td>\n      <td>96.000000</td>\n      <td>2.386404e+04</td>\n      <td>30.000000</td>\n      <td>149.000000</td>\n      <td>149.000000</td>\n      <td>41.000000</td>\n      <td>1.000000</td>\n      <td>100.000000</td>\n    </tr>\n    <tr>\n      <th>75%</th>\n      <td>0.000000</td>\n      <td>13.000000</td>\n      <td>27.000000</td>\n      <td>9.000000</td>\n      <td>2.016012e+07</td>\n      <td>27.000000</td>\n      <td>133.000000</td>\n      <td>33.000000</td>\n      <td>22.000000</td>\n      <td>23.000000</td>\n      <td>...</td>\n      <td>7.000000</td>\n      <td>188.000000</td>\n      <td>196.000000</td>\n      <td>5.018832e+04</td>\n      <td>30.000000</td>\n      <td>149.000000</td>\n      <td>149.000000</td>\n      <td>41.000000</td>\n      <td>1.000000</td>\n      <td>100.000000</td>\n    </tr>\n    <tr>\n      <th>max</th>\n      <td>1.000000</td>\n      <td>22.000000</td>\n      <td>2016.000000</td>\n      <td>13.000000</td>\n      <td>2.017042e+07</td>\n      <td>31.000000</td>\n      <td>46820.000000</td>\n      <td>3163.000000</td>\n      <td>1310.000000</td>\n      <td>15164.000000</td>\n      <td>...</td>\n      <td>4048.000000</td>\n      <td>16884.000000</td>\n      <td>4292.000000</td>\n      <td>4.196711e+06</td>\n      <td>450.000000</td>\n      <td>2000.000000</td>\n      <td>2000.000000</td>\n      <td>41.000000</td>\n      <td>1.000000</td>\n      <td>79281.000000</td>\n    </tr>\n  </tbody>\n</table>\n<p>8 rows × 26 columns</p>\n</div>"
     },
     "execution_count": 2,
     "metadata": {},
     "output_type": "execute_result"
    }
   ],
   "source": [
    "# Path to folder containing data file\n",
    "path = \"/Users/fynn/Desktop/ML/KKBOX-Data/\"\n",
    "\n",
    "# Import raw data\n",
    "kkbox_df = pd.read_csv(path + \"kkbox_churn.csv\")\n",
    "\n",
    "kkbox_df.describe()"
   ],
   "metadata": {
    "collapsed": false,
    "pycharm": {
     "name": "#%%\n"
    }
   }
  },
  {
   "cell_type": "markdown",
   "source": [
    "## 1.2 Correlations to Target Variable"
   ],
   "metadata": {
    "collapsed": false
   }
  },
  {
   "cell_type": "markdown",
   "source": [
    "## 1.3 Distribution & Correlation of Most Relevant Variables"
   ],
   "metadata": {
    "collapsed": false,
    "pycharm": {
     "name": "#%% md\n"
    }
   }
  },
  {
   "cell_type": "markdown",
   "source": [
    "Like here second example https://seaborn.pydata.org/generated/seaborn.pairplot.html"
   ],
   "metadata": {
    "collapsed": false,
    "pycharm": {
     "name": "#%% md\n"
    }
   }
  },
  {
   "cell_type": "markdown",
   "source": [
    "## 1.4 Distribution of Target Variable"
   ],
   "metadata": {
    "collapsed": false,
    "pycharm": {
     "name": "#%% md\n"
    }
   }
  },
  {
   "cell_type": "markdown",
   "source": [
    "Simple bar plot --> Show imbalance of dataset and need for over/ undersampling"
   ],
   "metadata": {
    "collapsed": false,
    "pycharm": {
     "name": "#%% md\n"
    }
   }
  },
  {
   "cell_type": "markdown",
   "source": [
    "# 2 Data Preparation (Fynn)"
   ],
   "metadata": {
    "collapsed": false,
    "pycharm": {
     "name": "#%% md\n"
    }
   }
  },
  {
   "cell_type": "markdown",
   "source": [
    "## 2.1 Handle Missing Values"
   ],
   "metadata": {
    "collapsed": false,
    "pycharm": {
     "name": "#%% md\n"
    }
   }
  },
  {
   "cell_type": "code",
   "execution_count": 3,
   "outputs": [
    {
     "name": "stdout",
     "output_type": "stream",
     "text": [
      "msno                              0\n",
      "is_churn                          0\n",
      "city                         109993\n",
      "bd                           109993\n",
      "gender                       582055\n",
      "registered_via               109993\n",
      "registration_init_time       109993\n",
      "count_userlogs_last_month    216409\n",
      "num_25_last_month            216409\n",
      "num_50_last_month            216409\n",
      "num_75_last_month            216409\n",
      "num_985_last_month           216409\n",
      "num_100_last_month           216409\n",
      "num_unq_last_month           216409\n",
      "total_secs_last_month        216409\n",
      "num_25_last_week             303462\n",
      "num_50_last_week             303462\n",
      "num_75_last_week             303462\n",
      "num_985_last_week            303462\n",
      "num_100_last_week            303462\n",
      "num_unq_last_week            303462\n",
      "total_secs_last_week         303462\n",
      "avg_payment_plan_days         37382\n",
      "avg_plan_list_price           37382\n",
      "avg_actual_amount_paid        37382\n",
      "last_payment_method_id        37382\n",
      "last_is_auto_renew            37382\n",
      "memberdays_left               37382\n",
      "dtype: int64\n",
      "\n",
      "Number of rows when removing all NaN: 319988\n",
      "\n",
      "Number of rows when removing all NaN without gender: 656435\n"
     ]
    }
   ],
   "source": [
    "# Get counts of missing values\n",
    "print(kkbox_df.isna().sum())\n",
    "\n",
    "# Get number of rows if we would remove all NaN\n",
    "print(\"\\nNumber of rows when removing all NaN:\", len(kkbox_df.dropna().index))\n",
    "\n",
    "# Get number of rows if we would remove all NaN after dropping gender\n",
    "print(\"\\nNumber of rows when removing all NaN without gender:\",\n",
    "      len(kkbox_df.drop(\"gender\", axis=1).dropna().index))"
   ],
   "metadata": {
    "collapsed": false,
    "pycharm": {
     "name": "#%%\n"
    }
   }
  },
  {
   "cell_type": "markdown",
   "source": [],
   "metadata": {
    "collapsed": false,
    "pycharm": {
     "name": "#%% md\n"
    }
   }
  },
  {
   "cell_type": "code",
   "execution_count": 4,
   "outputs": [
    {
     "name": "stdout",
     "output_type": "stream",
     "text": [
      "Size of NA cleaned dataset: 825368\n"
     ]
    }
   ],
   "source": [
    "# Drop gender to preserve 336.447 rows\n",
    "kkbox_df_clean = kkbox_df.drop(\"gender\", axis=1)\n",
    "\n",
    "# Fill missing values indicating no customer activity with zeros to preserve 168.933 rows\n",
    "month_week_cols = kkbox_df_clean.filter(regex=\"month|week\").columns\n",
    "kkbox_df_clean[month_week_cols] = kkbox_df_clean[month_week_cols].fillna(0)\n",
    "\n",
    "# Drop rows with missing values\n",
    "kkbox_df_clean = kkbox_df_clean.dropna()\n",
    "\n",
    "print(\"Size of NA cleaned dataset:\", len(kkbox_df_clean.index))"
   ],
   "metadata": {
    "collapsed": false,
    "pycharm": {
     "name": "#%%\n"
    }
   }
  },
  {
   "cell_type": "markdown",
   "source": [
    "## 2.2 Handle Categorical Variables"
   ],
   "metadata": {
    "collapsed": false,
    "pycharm": {
     "name": "#%% md\n"
    }
   }
  },
  {
   "cell_type": "code",
   "execution_count": 5,
   "outputs": [
    {
     "data": {
      "text/plain": "        is_churn  bd  registration_init_time  count_userlogs_last_month  \\\n0              1  20                20131223                          6   \n1              1  18                20131227                         20   \n2              1   0                20140109                          0   \n3              1  35                20140125                         15   \n4              1   0                20140126                          4   \n...          ...  ..                     ...                        ...   \n825363         0  25                20110830                         24   \n825364         0  28                20110831                         24   \n825365         0   0                20110903                          5   \n825366         0   0                20110905                          0   \n825367         0  25                20110905                         23   \n\n        num_25_last_month  num_50_last_month  num_75_last_month  \\\n0                       0                  4                  2   \n1                     239                 57                 32   \n2                       0                  0                  0   \n3                       9                  7                  4   \n4                       6                  1                  1   \n...                   ...                ...                ...   \n825363                117                 26                 30   \n825364                 48                  7                  4   \n825365                 43                  8                  8   \n825366                  0                  0                  0   \n825367                 33                 10                  6   \n\n        num_985_last_month  num_100_last_month  num_unq_last_month  ...  \\\n0                        0                  26                  30  ...   \n1                       22                 205                 432  ...   \n2                        0                   0                   0  ...   \n3                        4                 962                 548  ...   \n4                        4                  37                  48  ...   \n...                    ...                 ...                 ...  ...   \n825363                  25                 461                 429  ...   \n825364                   9                 318                 291  ...   \n825365                   7                  22                  54  ...   \n825366                   0                   0                   0  ...   \n825367                  10                 336                 309  ...   \n\n        last_payment_method_id_32  last_payment_method_id_33  \\\n0                               0                          0   \n1                               0                          0   \n2                               0                          0   \n3                               0                          0   \n4                               0                          0   \n...                           ...                        ...   \n825363                          0                          0   \n825364                          0                          0   \n825365                          0                          0   \n825366                          0                          0   \n825367                          0                          0   \n\n        last_payment_method_id_34  last_payment_method_id_35  \\\n0                               0                          0   \n1                               0                          0   \n2                               0                          0   \n3                               0                          0   \n4                               0                          0   \n...                           ...                        ...   \n825363                          0                          0   \n825364                          0                          0   \n825365                          0                          0   \n825366                          0                          0   \n825367                          0                          0   \n\n        last_payment_method_id_36  last_payment_method_id_37  \\\n0                               1                          0   \n1                               0                          0   \n2                               0                          0   \n3                               0                          0   \n4                               0                          0   \n...                           ...                        ...   \n825363                          0                          0   \n825364                          0                          0   \n825365                          0                          0   \n825366                          0                          0   \n825367                          0                          0   \n\n        last_payment_method_id_38  last_payment_method_id_39  \\\n0                               0                          0   \n1                               0                          0   \n2                               0                          0   \n3                               0                          0   \n4                               0                          0   \n...                           ...                        ...   \n825363                          0                          0   \n825364                          0                          0   \n825365                          0                          0   \n825366                          0                          0   \n825367                          0                          1   \n\n        last_payment_method_id_40  last_payment_method_id_41  \n0                               0                          0  \n1                               0                          0  \n2                               0                          1  \n3                               0                          1  \n4                               1                          0  \n...                           ...                        ...  \n825363                          0                          1  \n825364                          1                          0  \n825365                          0                          1  \n825366                          0                          1  \n825367                          0                          0  \n\n[825368 rows x 82 columns]",
      "text/html": "<div>\n<style scoped>\n    .dataframe tbody tr th:only-of-type {\n        vertical-align: middle;\n    }\n\n    .dataframe tbody tr th {\n        vertical-align: top;\n    }\n\n    .dataframe thead th {\n        text-align: right;\n    }\n</style>\n<table border=\"1\" class=\"dataframe\">\n  <thead>\n    <tr style=\"text-align: right;\">\n      <th></th>\n      <th>is_churn</th>\n      <th>bd</th>\n      <th>registration_init_time</th>\n      <th>count_userlogs_last_month</th>\n      <th>num_25_last_month</th>\n      <th>num_50_last_month</th>\n      <th>num_75_last_month</th>\n      <th>num_985_last_month</th>\n      <th>num_100_last_month</th>\n      <th>num_unq_last_month</th>\n      <th>...</th>\n      <th>last_payment_method_id_32</th>\n      <th>last_payment_method_id_33</th>\n      <th>last_payment_method_id_34</th>\n      <th>last_payment_method_id_35</th>\n      <th>last_payment_method_id_36</th>\n      <th>last_payment_method_id_37</th>\n      <th>last_payment_method_id_38</th>\n      <th>last_payment_method_id_39</th>\n      <th>last_payment_method_id_40</th>\n      <th>last_payment_method_id_41</th>\n    </tr>\n  </thead>\n  <tbody>\n    <tr>\n      <th>0</th>\n      <td>1</td>\n      <td>20</td>\n      <td>20131223</td>\n      <td>6</td>\n      <td>0</td>\n      <td>4</td>\n      <td>2</td>\n      <td>0</td>\n      <td>26</td>\n      <td>30</td>\n      <td>...</td>\n      <td>0</td>\n      <td>0</td>\n      <td>0</td>\n      <td>0</td>\n      <td>1</td>\n      <td>0</td>\n      <td>0</td>\n      <td>0</td>\n      <td>0</td>\n      <td>0</td>\n    </tr>\n    <tr>\n      <th>1</th>\n      <td>1</td>\n      <td>18</td>\n      <td>20131227</td>\n      <td>20</td>\n      <td>239</td>\n      <td>57</td>\n      <td>32</td>\n      <td>22</td>\n      <td>205</td>\n      <td>432</td>\n      <td>...</td>\n      <td>0</td>\n      <td>0</td>\n      <td>0</td>\n      <td>0</td>\n      <td>0</td>\n      <td>0</td>\n      <td>0</td>\n      <td>0</td>\n      <td>0</td>\n      <td>0</td>\n    </tr>\n    <tr>\n      <th>2</th>\n      <td>1</td>\n      <td>0</td>\n      <td>20140109</td>\n      <td>0</td>\n      <td>0</td>\n      <td>0</td>\n      <td>0</td>\n      <td>0</td>\n      <td>0</td>\n      <td>0</td>\n      <td>...</td>\n      <td>0</td>\n      <td>0</td>\n      <td>0</td>\n      <td>0</td>\n      <td>0</td>\n      <td>0</td>\n      <td>0</td>\n      <td>0</td>\n      <td>0</td>\n      <td>1</td>\n    </tr>\n    <tr>\n      <th>3</th>\n      <td>1</td>\n      <td>35</td>\n      <td>20140125</td>\n      <td>15</td>\n      <td>9</td>\n      <td>7</td>\n      <td>4</td>\n      <td>4</td>\n      <td>962</td>\n      <td>548</td>\n      <td>...</td>\n      <td>0</td>\n      <td>0</td>\n      <td>0</td>\n      <td>0</td>\n      <td>0</td>\n      <td>0</td>\n      <td>0</td>\n      <td>0</td>\n      <td>0</td>\n      <td>1</td>\n    </tr>\n    <tr>\n      <th>4</th>\n      <td>1</td>\n      <td>0</td>\n      <td>20140126</td>\n      <td>4</td>\n      <td>6</td>\n      <td>1</td>\n      <td>1</td>\n      <td>4</td>\n      <td>37</td>\n      <td>48</td>\n      <td>...</td>\n      <td>0</td>\n      <td>0</td>\n      <td>0</td>\n      <td>0</td>\n      <td>0</td>\n      <td>0</td>\n      <td>0</td>\n      <td>0</td>\n      <td>1</td>\n      <td>0</td>\n    </tr>\n    <tr>\n      <th>...</th>\n      <td>...</td>\n      <td>...</td>\n      <td>...</td>\n      <td>...</td>\n      <td>...</td>\n      <td>...</td>\n      <td>...</td>\n      <td>...</td>\n      <td>...</td>\n      <td>...</td>\n      <td>...</td>\n      <td>...</td>\n      <td>...</td>\n      <td>...</td>\n      <td>...</td>\n      <td>...</td>\n      <td>...</td>\n      <td>...</td>\n      <td>...</td>\n      <td>...</td>\n      <td>...</td>\n    </tr>\n    <tr>\n      <th>825363</th>\n      <td>0</td>\n      <td>25</td>\n      <td>20110830</td>\n      <td>24</td>\n      <td>117</td>\n      <td>26</td>\n      <td>30</td>\n      <td>25</td>\n      <td>461</td>\n      <td>429</td>\n      <td>...</td>\n      <td>0</td>\n      <td>0</td>\n      <td>0</td>\n      <td>0</td>\n      <td>0</td>\n      <td>0</td>\n      <td>0</td>\n      <td>0</td>\n      <td>0</td>\n      <td>1</td>\n    </tr>\n    <tr>\n      <th>825364</th>\n      <td>0</td>\n      <td>28</td>\n      <td>20110831</td>\n      <td>24</td>\n      <td>48</td>\n      <td>7</td>\n      <td>4</td>\n      <td>9</td>\n      <td>318</td>\n      <td>291</td>\n      <td>...</td>\n      <td>0</td>\n      <td>0</td>\n      <td>0</td>\n      <td>0</td>\n      <td>0</td>\n      <td>0</td>\n      <td>0</td>\n      <td>0</td>\n      <td>1</td>\n      <td>0</td>\n    </tr>\n    <tr>\n      <th>825365</th>\n      <td>0</td>\n      <td>0</td>\n      <td>20110903</td>\n      <td>5</td>\n      <td>43</td>\n      <td>8</td>\n      <td>8</td>\n      <td>7</td>\n      <td>22</td>\n      <td>54</td>\n      <td>...</td>\n      <td>0</td>\n      <td>0</td>\n      <td>0</td>\n      <td>0</td>\n      <td>0</td>\n      <td>0</td>\n      <td>0</td>\n      <td>0</td>\n      <td>0</td>\n      <td>1</td>\n    </tr>\n    <tr>\n      <th>825366</th>\n      <td>0</td>\n      <td>0</td>\n      <td>20110905</td>\n      <td>0</td>\n      <td>0</td>\n      <td>0</td>\n      <td>0</td>\n      <td>0</td>\n      <td>0</td>\n      <td>0</td>\n      <td>...</td>\n      <td>0</td>\n      <td>0</td>\n      <td>0</td>\n      <td>0</td>\n      <td>0</td>\n      <td>0</td>\n      <td>0</td>\n      <td>0</td>\n      <td>0</td>\n      <td>1</td>\n    </tr>\n    <tr>\n      <th>825367</th>\n      <td>0</td>\n      <td>25</td>\n      <td>20110905</td>\n      <td>23</td>\n      <td>33</td>\n      <td>10</td>\n      <td>6</td>\n      <td>10</td>\n      <td>336</td>\n      <td>309</td>\n      <td>...</td>\n      <td>0</td>\n      <td>0</td>\n      <td>0</td>\n      <td>0</td>\n      <td>0</td>\n      <td>0</td>\n      <td>0</td>\n      <td>1</td>\n      <td>0</td>\n      <td>0</td>\n    </tr>\n  </tbody>\n</table>\n<p>825368 rows × 82 columns</p>\n</div>"
     },
     "execution_count": 5,
     "metadata": {},
     "output_type": "execute_result"
    }
   ],
   "source": [
    "# HANDLE FEATURE TYPES ---------------------------------------------------------\n",
    "\n",
    "# Round all features\n",
    "kkbox_df_clean.iloc[:,2:] = round(kkbox_df_clean.iloc[:,2:]).astype(\"int64\")\n",
    "\n",
    "# HANDLE CATEGORICAL FEATURES --------------------------------------------------\n",
    "\n",
    "# Set correct types of categorical variables\n",
    "cat_feats = [\"city\", \"registered_via\", \"last_payment_method_id\"]\n",
    "kkbox_df_clean[cat_feats] = kkbox_df_clean[cat_feats].astype(\"category\")\n",
    "\n",
    "# One-hot encoding\n",
    "encoder = preprocessing.OneHotEncoder(sparse=False)\n",
    "cat_feats_onehot = encoder.fit_transform(kkbox_df_clean[cat_feats])\n",
    "df_cat_feats_onehot = pd.DataFrame(cat_feats_onehot).astype(\"int64\")\n",
    "df_cat_feats_onehot.columns = encoder.get_feature_names(cat_feats)\n",
    "\n",
    "# Append one-hot encoded features to data frame\n",
    "kkbox_df_clean = pd.concat([kkbox_df_clean.reset_index(), df_cat_feats_onehot], axis=1)\n",
    "\n",
    "# Remove not needed columns\n",
    "kkbox_df_clean = kkbox_df_clean.drop([\"index\", \"msno\"] + cat_feats, axis=1)\n",
    "kkbox_df_clean"
   ],
   "metadata": {
    "collapsed": false,
    "pycharm": {
     "name": "#%%\n"
    }
   }
  },
  {
   "cell_type": "markdown",
   "source": [
    "## 2.3 Min-Max Normalization"
   ],
   "metadata": {
    "collapsed": false,
    "pycharm": {
     "name": "#%% md\n"
    }
   }
  },
  {
   "cell_type": "markdown",
   "source": [
    "Some models e.g. logistic regression or neural networks require features to be on a similar scale and be normally distributed. Scaled data may have advantages for modelling but can be complicated in interpreting the results for a business context. Min-max normalized customer age data for example is no longer related to the actual customer age and has, e.g. as a decision tree split attribute, no direct interpretable value anymore."
   ],
   "metadata": {
    "collapsed": false,
    "pycharm": {
     "name": "#%% md\n"
    }
   }
  },
  {
   "cell_type": "code",
   "execution_count": 6,
   "outputs": [
    {
     "data": {
      "text/plain": "        is_churn        bd  registration_init_time  count_userlogs_last_month  \\\n0            1.0  0.613777                0.698681                   0.193548   \n1            1.0  0.613390                0.698712                   0.645161   \n2            1.0  0.609907                0.766983                   0.000000   \n3            1.0  0.616680                0.767106                   0.483871   \n4            1.0  0.609907                0.767114                   0.129032   \n...          ...       ...                     ...                        ...   \n825363       0.0  0.614745                0.541930                   0.774194   \n825364       0.0  0.615325                0.541938                   0.774194   \n825365       0.0  0.609907                0.542491                   0.161290   \n825366       0.0  0.609907                0.542506                   0.000000   \n825367       0.0  0.614745                0.542506                   0.741935   \n\n        num_25_last_month  num_50_last_month  num_75_last_month  \\\n0                0.000000           0.001265           0.001527   \n1                0.005105           0.018021           0.024427   \n2                0.000000           0.000000           0.000000   \n3                0.000192           0.002213           0.003053   \n4                0.000128           0.000316           0.000763   \n...                   ...                ...                ...   \n825363           0.002499           0.008220           0.022901   \n825364           0.001025           0.002213           0.003053   \n825365           0.000918           0.002529           0.006107   \n825366           0.000000           0.000000           0.000000   \n825367           0.000705           0.003162           0.004580   \n\n        num_985_last_month  num_100_last_month  num_unq_last_month  ...  \\\n0                 0.000000            0.000451            0.001282  ...   \n1                 0.001451            0.003554            0.018459  ...   \n2                 0.000000            0.000000            0.000000  ...   \n3                 0.000264            0.016680            0.023416  ...   \n4                 0.000264            0.000642            0.002051  ...   \n...                    ...                 ...                 ...  ...   \n825363            0.001649            0.007993            0.018331  ...   \n825364            0.000594            0.005514            0.012434  ...   \n825365            0.000462            0.000381            0.002307  ...   \n825366            0.000000            0.000000            0.000000  ...   \n825367            0.000659            0.005826            0.013203  ...   \n\n        last_payment_method_id_32  last_payment_method_id_33  \\\n0                             0.0                        0.0   \n1                             0.0                        0.0   \n2                             0.0                        0.0   \n3                             0.0                        0.0   \n4                             0.0                        0.0   \n...                           ...                        ...   \n825363                        0.0                        0.0   \n825364                        0.0                        0.0   \n825365                        0.0                        0.0   \n825366                        0.0                        0.0   \n825367                        0.0                        0.0   \n\n        last_payment_method_id_34  last_payment_method_id_35  \\\n0                             0.0                        0.0   \n1                             0.0                        0.0   \n2                             0.0                        0.0   \n3                             0.0                        0.0   \n4                             0.0                        0.0   \n...                           ...                        ...   \n825363                        0.0                        0.0   \n825364                        0.0                        0.0   \n825365                        0.0                        0.0   \n825366                        0.0                        0.0   \n825367                        0.0                        0.0   \n\n        last_payment_method_id_36  last_payment_method_id_37  \\\n0                             1.0                        0.0   \n1                             0.0                        0.0   \n2                             0.0                        0.0   \n3                             0.0                        0.0   \n4                             0.0                        0.0   \n...                           ...                        ...   \n825363                        0.0                        0.0   \n825364                        0.0                        0.0   \n825365                        0.0                        0.0   \n825366                        0.0                        0.0   \n825367                        0.0                        0.0   \n\n        last_payment_method_id_38  last_payment_method_id_39  \\\n0                             0.0                        0.0   \n1                             0.0                        0.0   \n2                             0.0                        0.0   \n3                             0.0                        0.0   \n4                             0.0                        0.0   \n...                           ...                        ...   \n825363                        0.0                        0.0   \n825364                        0.0                        0.0   \n825365                        0.0                        0.0   \n825366                        0.0                        0.0   \n825367                        0.0                        1.0   \n\n        last_payment_method_id_40  last_payment_method_id_41  \n0                             0.0                        0.0  \n1                             0.0                        0.0  \n2                             0.0                        1.0  \n3                             0.0                        1.0  \n4                             1.0                        0.0  \n...                           ...                        ...  \n825363                        0.0                        1.0  \n825364                        1.0                        0.0  \n825365                        0.0                        1.0  \n825366                        0.0                        1.0  \n825367                        0.0                        0.0  \n\n[825368 rows x 82 columns]",
      "text/html": "<div>\n<style scoped>\n    .dataframe tbody tr th:only-of-type {\n        vertical-align: middle;\n    }\n\n    .dataframe tbody tr th {\n        vertical-align: top;\n    }\n\n    .dataframe thead th {\n        text-align: right;\n    }\n</style>\n<table border=\"1\" class=\"dataframe\">\n  <thead>\n    <tr style=\"text-align: right;\">\n      <th></th>\n      <th>is_churn</th>\n      <th>bd</th>\n      <th>registration_init_time</th>\n      <th>count_userlogs_last_month</th>\n      <th>num_25_last_month</th>\n      <th>num_50_last_month</th>\n      <th>num_75_last_month</th>\n      <th>num_985_last_month</th>\n      <th>num_100_last_month</th>\n      <th>num_unq_last_month</th>\n      <th>...</th>\n      <th>last_payment_method_id_32</th>\n      <th>last_payment_method_id_33</th>\n      <th>last_payment_method_id_34</th>\n      <th>last_payment_method_id_35</th>\n      <th>last_payment_method_id_36</th>\n      <th>last_payment_method_id_37</th>\n      <th>last_payment_method_id_38</th>\n      <th>last_payment_method_id_39</th>\n      <th>last_payment_method_id_40</th>\n      <th>last_payment_method_id_41</th>\n    </tr>\n  </thead>\n  <tbody>\n    <tr>\n      <th>0</th>\n      <td>1.0</td>\n      <td>0.613777</td>\n      <td>0.698681</td>\n      <td>0.193548</td>\n      <td>0.000000</td>\n      <td>0.001265</td>\n      <td>0.001527</td>\n      <td>0.000000</td>\n      <td>0.000451</td>\n      <td>0.001282</td>\n      <td>...</td>\n      <td>0.0</td>\n      <td>0.0</td>\n      <td>0.0</td>\n      <td>0.0</td>\n      <td>1.0</td>\n      <td>0.0</td>\n      <td>0.0</td>\n      <td>0.0</td>\n      <td>0.0</td>\n      <td>0.0</td>\n    </tr>\n    <tr>\n      <th>1</th>\n      <td>1.0</td>\n      <td>0.613390</td>\n      <td>0.698712</td>\n      <td>0.645161</td>\n      <td>0.005105</td>\n      <td>0.018021</td>\n      <td>0.024427</td>\n      <td>0.001451</td>\n      <td>0.003554</td>\n      <td>0.018459</td>\n      <td>...</td>\n      <td>0.0</td>\n      <td>0.0</td>\n      <td>0.0</td>\n      <td>0.0</td>\n      <td>0.0</td>\n      <td>0.0</td>\n      <td>0.0</td>\n      <td>0.0</td>\n      <td>0.0</td>\n      <td>0.0</td>\n    </tr>\n    <tr>\n      <th>2</th>\n      <td>1.0</td>\n      <td>0.609907</td>\n      <td>0.766983</td>\n      <td>0.000000</td>\n      <td>0.000000</td>\n      <td>0.000000</td>\n      <td>0.000000</td>\n      <td>0.000000</td>\n      <td>0.000000</td>\n      <td>0.000000</td>\n      <td>...</td>\n      <td>0.0</td>\n      <td>0.0</td>\n      <td>0.0</td>\n      <td>0.0</td>\n      <td>0.0</td>\n      <td>0.0</td>\n      <td>0.0</td>\n      <td>0.0</td>\n      <td>0.0</td>\n      <td>1.0</td>\n    </tr>\n    <tr>\n      <th>3</th>\n      <td>1.0</td>\n      <td>0.616680</td>\n      <td>0.767106</td>\n      <td>0.483871</td>\n      <td>0.000192</td>\n      <td>0.002213</td>\n      <td>0.003053</td>\n      <td>0.000264</td>\n      <td>0.016680</td>\n      <td>0.023416</td>\n      <td>...</td>\n      <td>0.0</td>\n      <td>0.0</td>\n      <td>0.0</td>\n      <td>0.0</td>\n      <td>0.0</td>\n      <td>0.0</td>\n      <td>0.0</td>\n      <td>0.0</td>\n      <td>0.0</td>\n      <td>1.0</td>\n    </tr>\n    <tr>\n      <th>4</th>\n      <td>1.0</td>\n      <td>0.609907</td>\n      <td>0.767114</td>\n      <td>0.129032</td>\n      <td>0.000128</td>\n      <td>0.000316</td>\n      <td>0.000763</td>\n      <td>0.000264</td>\n      <td>0.000642</td>\n      <td>0.002051</td>\n      <td>...</td>\n      <td>0.0</td>\n      <td>0.0</td>\n      <td>0.0</td>\n      <td>0.0</td>\n      <td>0.0</td>\n      <td>0.0</td>\n      <td>0.0</td>\n      <td>0.0</td>\n      <td>1.0</td>\n      <td>0.0</td>\n    </tr>\n    <tr>\n      <th>...</th>\n      <td>...</td>\n      <td>...</td>\n      <td>...</td>\n      <td>...</td>\n      <td>...</td>\n      <td>...</td>\n      <td>...</td>\n      <td>...</td>\n      <td>...</td>\n      <td>...</td>\n      <td>...</td>\n      <td>...</td>\n      <td>...</td>\n      <td>...</td>\n      <td>...</td>\n      <td>...</td>\n      <td>...</td>\n      <td>...</td>\n      <td>...</td>\n      <td>...</td>\n      <td>...</td>\n    </tr>\n    <tr>\n      <th>825363</th>\n      <td>0.0</td>\n      <td>0.614745</td>\n      <td>0.541930</td>\n      <td>0.774194</td>\n      <td>0.002499</td>\n      <td>0.008220</td>\n      <td>0.022901</td>\n      <td>0.001649</td>\n      <td>0.007993</td>\n      <td>0.018331</td>\n      <td>...</td>\n      <td>0.0</td>\n      <td>0.0</td>\n      <td>0.0</td>\n      <td>0.0</td>\n      <td>0.0</td>\n      <td>0.0</td>\n      <td>0.0</td>\n      <td>0.0</td>\n      <td>0.0</td>\n      <td>1.0</td>\n    </tr>\n    <tr>\n      <th>825364</th>\n      <td>0.0</td>\n      <td>0.615325</td>\n      <td>0.541938</td>\n      <td>0.774194</td>\n      <td>0.001025</td>\n      <td>0.002213</td>\n      <td>0.003053</td>\n      <td>0.000594</td>\n      <td>0.005514</td>\n      <td>0.012434</td>\n      <td>...</td>\n      <td>0.0</td>\n      <td>0.0</td>\n      <td>0.0</td>\n      <td>0.0</td>\n      <td>0.0</td>\n      <td>0.0</td>\n      <td>0.0</td>\n      <td>0.0</td>\n      <td>1.0</td>\n      <td>0.0</td>\n    </tr>\n    <tr>\n      <th>825365</th>\n      <td>0.0</td>\n      <td>0.609907</td>\n      <td>0.542491</td>\n      <td>0.161290</td>\n      <td>0.000918</td>\n      <td>0.002529</td>\n      <td>0.006107</td>\n      <td>0.000462</td>\n      <td>0.000381</td>\n      <td>0.002307</td>\n      <td>...</td>\n      <td>0.0</td>\n      <td>0.0</td>\n      <td>0.0</td>\n      <td>0.0</td>\n      <td>0.0</td>\n      <td>0.0</td>\n      <td>0.0</td>\n      <td>0.0</td>\n      <td>0.0</td>\n      <td>1.0</td>\n    </tr>\n    <tr>\n      <th>825366</th>\n      <td>0.0</td>\n      <td>0.609907</td>\n      <td>0.542506</td>\n      <td>0.000000</td>\n      <td>0.000000</td>\n      <td>0.000000</td>\n      <td>0.000000</td>\n      <td>0.000000</td>\n      <td>0.000000</td>\n      <td>0.000000</td>\n      <td>...</td>\n      <td>0.0</td>\n      <td>0.0</td>\n      <td>0.0</td>\n      <td>0.0</td>\n      <td>0.0</td>\n      <td>0.0</td>\n      <td>0.0</td>\n      <td>0.0</td>\n      <td>0.0</td>\n      <td>1.0</td>\n    </tr>\n    <tr>\n      <th>825367</th>\n      <td>0.0</td>\n      <td>0.614745</td>\n      <td>0.542506</td>\n      <td>0.741935</td>\n      <td>0.000705</td>\n      <td>0.003162</td>\n      <td>0.004580</td>\n      <td>0.000659</td>\n      <td>0.005826</td>\n      <td>0.013203</td>\n      <td>...</td>\n      <td>0.0</td>\n      <td>0.0</td>\n      <td>0.0</td>\n      <td>0.0</td>\n      <td>0.0</td>\n      <td>0.0</td>\n      <td>0.0</td>\n      <td>1.0</td>\n      <td>0.0</td>\n      <td>0.0</td>\n    </tr>\n  </tbody>\n</table>\n<p>825368 rows × 82 columns</p>\n</div>"
     },
     "execution_count": 6,
     "metadata": {},
     "output_type": "execute_result"
    }
   ],
   "source": [
    "# Min-max scaling\n",
    "mm_scaler = preprocessing.MinMaxScaler()\n",
    "kkbox_mat_mmnorm = mm_scaler.fit_transform(kkbox_df_clean)\n",
    "\n",
    "# Put back into pandas df\n",
    "kkbox_df_mmnorm = pd.DataFrame(kkbox_mat_mmnorm, columns=kkbox_df_clean.columns)\n",
    "\n",
    "kkbox_df_mmnorm"
   ],
   "metadata": {
    "collapsed": false,
    "pycharm": {
     "name": "#%%\n"
    }
   }
  },
  {
   "cell_type": "markdown",
   "source": [
    "## 2.4 Standard Scaling"
   ],
   "metadata": {
    "collapsed": false,
    "pycharm": {
     "name": "#%% md\n"
    }
   }
  },
  {
   "cell_type": "markdown",
   "source": [
    "The standard scaler scales every variable's mean to 0 and standard deviation to 1."
   ],
   "metadata": {
    "collapsed": false,
    "pycharm": {
     "name": "#%% md\n"
    }
   }
  },
  {
   "cell_type": "code",
   "execution_count": 7,
   "outputs": [
    {
     "data": {
      "text/plain": "        is_churn        bd  registration_init_time  count_userlogs_last_month  \\\n0              1  0.325039               -0.040935                  -0.924594   \n1              1  0.226053               -0.040803                   0.370656   \n2              1 -0.664820                0.253308                  -1.479701   \n3              1  1.067434                0.253837                  -0.091933   \n4              1 -0.664820                0.253871                  -1.109630   \n...          ...       ...                     ...                        ...   \n825363         0  0.572504               -0.716210                   0.740727   \n825364         0  0.720983               -0.716177                   0.740727   \n825365         0 -0.664820               -0.713793                  -1.017112   \n825366         0 -0.664820               -0.713727                  -1.479701   \n825367         0  0.572504               -0.713727                   0.648209   \n\n        num_25_last_month  num_50_last_month  num_75_last_month  \\\n0               -0.560476          -0.516732          -0.583841   \n1                0.819897           0.894233           0.788135   \n2               -0.560476          -0.623220          -0.675306   \n3               -0.508495          -0.436866          -0.492376   \n4               -0.525822          -0.596598          -0.629574   \n...                   ...                ...                ...   \n825363           0.115272           0.068952           0.696670   \n825364          -0.283246          -0.436866          -0.492376   \n825365          -0.312124          -0.410244          -0.309446   \n825366          -0.560476          -0.623220          -0.675306   \n825367          -0.369880          -0.357000          -0.400911   \n\n        num_985_last_month  num_100_last_month  num_unq_last_month  ...  \\\n0                -0.416305           -0.608982           -0.728398  ...   \n1                 0.131788           -0.368697           -0.043624  ...   \n2                -0.416305           -0.643884           -0.779501  ...   \n3                -0.316652            0.647485            0.153973  ...   \n4                -0.316652           -0.594216           -0.697736  ...   \n...                    ...                 ...                 ...  ...   \n825363            0.206528           -0.025047           -0.048734  ...   \n825364           -0.192085           -0.217008           -0.283806  ...   \n825365           -0.241912           -0.614352           -0.687516  ...   \n825366           -0.416305           -0.643884           -0.779501  ...   \n825367           -0.167172           -0.192845           -0.253144  ...   \n\n        last_payment_method_id_32  last_payment_method_id_33  \\\n0                       -0.094353                  -0.128128   \n1                       -0.094353                  -0.128128   \n2                       -0.094353                  -0.128128   \n3                       -0.094353                  -0.128128   \n4                       -0.094353                  -0.128128   \n...                           ...                        ...   \n825363                  -0.094353                  -0.128128   \n825364                  -0.094353                  -0.128128   \n825365                  -0.094353                  -0.128128   \n825366                  -0.094353                  -0.128128   \n825367                  -0.094353                  -0.128128   \n\n        last_payment_method_id_34  last_payment_method_id_35  \\\n0                       -0.179739                  -0.019663   \n1                       -0.179739                  -0.019663   \n2                       -0.179739                  -0.019663   \n3                       -0.179739                  -0.019663   \n4                       -0.179739                  -0.019663   \n...                           ...                        ...   \n825363                  -0.179739                  -0.019663   \n825364                  -0.179739                  -0.019663   \n825365                  -0.179739                  -0.019663   \n825366                  -0.179739                  -0.019663   \n825367                  -0.179739                  -0.019663   \n\n        last_payment_method_id_36  last_payment_method_id_37  \\\n0                        3.347560                  -0.215009   \n1                       -0.298725                  -0.215009   \n2                       -0.298725                  -0.215009   \n3                       -0.298725                  -0.215009   \n4                       -0.298725                  -0.215009   \n...                           ...                        ...   \n825363                  -0.298725                  -0.215009   \n825364                  -0.298725                  -0.215009   \n825365                  -0.298725                  -0.215009   \n825366                  -0.298725                  -0.215009   \n825367                  -0.298725                  -0.215009   \n\n        last_payment_method_id_38  last_payment_method_id_39  \\\n0                       -0.231211                  -0.290060   \n1                       -0.231211                  -0.290060   \n2                       -0.231211                  -0.290060   \n3                       -0.231211                  -0.290060   \n4                       -0.231211                  -0.290060   \n...                           ...                        ...   \n825363                  -0.231211                  -0.290060   \n825364                  -0.231211                  -0.290060   \n825365                  -0.231211                  -0.290060   \n825366                  -0.231211                  -0.290060   \n825367                  -0.231211                   3.447565   \n\n        last_payment_method_id_40  last_payment_method_id_41  \n0                       -0.311814                  -1.079313  \n1                       -0.311814                  -1.079313  \n2                       -0.311814                   0.926515  \n3                       -0.311814                   0.926515  \n4                        3.207036                  -1.079313  \n...                           ...                        ...  \n825363                  -0.311814                   0.926515  \n825364                   3.207036                  -1.079313  \n825365                  -0.311814                   0.926515  \n825366                  -0.311814                   0.926515  \n825367                  -0.311814                  -1.079313  \n\n[825368 rows x 82 columns]",
      "text/html": "<div>\n<style scoped>\n    .dataframe tbody tr th:only-of-type {\n        vertical-align: middle;\n    }\n\n    .dataframe tbody tr th {\n        vertical-align: top;\n    }\n\n    .dataframe thead th {\n        text-align: right;\n    }\n</style>\n<table border=\"1\" class=\"dataframe\">\n  <thead>\n    <tr style=\"text-align: right;\">\n      <th></th>\n      <th>is_churn</th>\n      <th>bd</th>\n      <th>registration_init_time</th>\n      <th>count_userlogs_last_month</th>\n      <th>num_25_last_month</th>\n      <th>num_50_last_month</th>\n      <th>num_75_last_month</th>\n      <th>num_985_last_month</th>\n      <th>num_100_last_month</th>\n      <th>num_unq_last_month</th>\n      <th>...</th>\n      <th>last_payment_method_id_32</th>\n      <th>last_payment_method_id_33</th>\n      <th>last_payment_method_id_34</th>\n      <th>last_payment_method_id_35</th>\n      <th>last_payment_method_id_36</th>\n      <th>last_payment_method_id_37</th>\n      <th>last_payment_method_id_38</th>\n      <th>last_payment_method_id_39</th>\n      <th>last_payment_method_id_40</th>\n      <th>last_payment_method_id_41</th>\n    </tr>\n  </thead>\n  <tbody>\n    <tr>\n      <th>0</th>\n      <td>1</td>\n      <td>0.325039</td>\n      <td>-0.040935</td>\n      <td>-0.924594</td>\n      <td>-0.560476</td>\n      <td>-0.516732</td>\n      <td>-0.583841</td>\n      <td>-0.416305</td>\n      <td>-0.608982</td>\n      <td>-0.728398</td>\n      <td>...</td>\n      <td>-0.094353</td>\n      <td>-0.128128</td>\n      <td>-0.179739</td>\n      <td>-0.019663</td>\n      <td>3.347560</td>\n      <td>-0.215009</td>\n      <td>-0.231211</td>\n      <td>-0.290060</td>\n      <td>-0.311814</td>\n      <td>-1.079313</td>\n    </tr>\n    <tr>\n      <th>1</th>\n      <td>1</td>\n      <td>0.226053</td>\n      <td>-0.040803</td>\n      <td>0.370656</td>\n      <td>0.819897</td>\n      <td>0.894233</td>\n      <td>0.788135</td>\n      <td>0.131788</td>\n      <td>-0.368697</td>\n      <td>-0.043624</td>\n      <td>...</td>\n      <td>-0.094353</td>\n      <td>-0.128128</td>\n      <td>-0.179739</td>\n      <td>-0.019663</td>\n      <td>-0.298725</td>\n      <td>-0.215009</td>\n      <td>-0.231211</td>\n      <td>-0.290060</td>\n      <td>-0.311814</td>\n      <td>-1.079313</td>\n    </tr>\n    <tr>\n      <th>2</th>\n      <td>1</td>\n      <td>-0.664820</td>\n      <td>0.253308</td>\n      <td>-1.479701</td>\n      <td>-0.560476</td>\n      <td>-0.623220</td>\n      <td>-0.675306</td>\n      <td>-0.416305</td>\n      <td>-0.643884</td>\n      <td>-0.779501</td>\n      <td>...</td>\n      <td>-0.094353</td>\n      <td>-0.128128</td>\n      <td>-0.179739</td>\n      <td>-0.019663</td>\n      <td>-0.298725</td>\n      <td>-0.215009</td>\n      <td>-0.231211</td>\n      <td>-0.290060</td>\n      <td>-0.311814</td>\n      <td>0.926515</td>\n    </tr>\n    <tr>\n      <th>3</th>\n      <td>1</td>\n      <td>1.067434</td>\n      <td>0.253837</td>\n      <td>-0.091933</td>\n      <td>-0.508495</td>\n      <td>-0.436866</td>\n      <td>-0.492376</td>\n      <td>-0.316652</td>\n      <td>0.647485</td>\n      <td>0.153973</td>\n      <td>...</td>\n      <td>-0.094353</td>\n      <td>-0.128128</td>\n      <td>-0.179739</td>\n      <td>-0.019663</td>\n      <td>-0.298725</td>\n      <td>-0.215009</td>\n      <td>-0.231211</td>\n      <td>-0.290060</td>\n      <td>-0.311814</td>\n      <td>0.926515</td>\n    </tr>\n    <tr>\n      <th>4</th>\n      <td>1</td>\n      <td>-0.664820</td>\n      <td>0.253871</td>\n      <td>-1.109630</td>\n      <td>-0.525822</td>\n      <td>-0.596598</td>\n      <td>-0.629574</td>\n      <td>-0.316652</td>\n      <td>-0.594216</td>\n      <td>-0.697736</td>\n      <td>...</td>\n      <td>-0.094353</td>\n      <td>-0.128128</td>\n      <td>-0.179739</td>\n      <td>-0.019663</td>\n      <td>-0.298725</td>\n      <td>-0.215009</td>\n      <td>-0.231211</td>\n      <td>-0.290060</td>\n      <td>3.207036</td>\n      <td>-1.079313</td>\n    </tr>\n    <tr>\n      <th>...</th>\n      <td>...</td>\n      <td>...</td>\n      <td>...</td>\n      <td>...</td>\n      <td>...</td>\n      <td>...</td>\n      <td>...</td>\n      <td>...</td>\n      <td>...</td>\n      <td>...</td>\n      <td>...</td>\n      <td>...</td>\n      <td>...</td>\n      <td>...</td>\n      <td>...</td>\n      <td>...</td>\n      <td>...</td>\n      <td>...</td>\n      <td>...</td>\n      <td>...</td>\n      <td>...</td>\n    </tr>\n    <tr>\n      <th>825363</th>\n      <td>0</td>\n      <td>0.572504</td>\n      <td>-0.716210</td>\n      <td>0.740727</td>\n      <td>0.115272</td>\n      <td>0.068952</td>\n      <td>0.696670</td>\n      <td>0.206528</td>\n      <td>-0.025047</td>\n      <td>-0.048734</td>\n      <td>...</td>\n      <td>-0.094353</td>\n      <td>-0.128128</td>\n      <td>-0.179739</td>\n      <td>-0.019663</td>\n      <td>-0.298725</td>\n      <td>-0.215009</td>\n      <td>-0.231211</td>\n      <td>-0.290060</td>\n      <td>-0.311814</td>\n      <td>0.926515</td>\n    </tr>\n    <tr>\n      <th>825364</th>\n      <td>0</td>\n      <td>0.720983</td>\n      <td>-0.716177</td>\n      <td>0.740727</td>\n      <td>-0.283246</td>\n      <td>-0.436866</td>\n      <td>-0.492376</td>\n      <td>-0.192085</td>\n      <td>-0.217008</td>\n      <td>-0.283806</td>\n      <td>...</td>\n      <td>-0.094353</td>\n      <td>-0.128128</td>\n      <td>-0.179739</td>\n      <td>-0.019663</td>\n      <td>-0.298725</td>\n      <td>-0.215009</td>\n      <td>-0.231211</td>\n      <td>-0.290060</td>\n      <td>3.207036</td>\n      <td>-1.079313</td>\n    </tr>\n    <tr>\n      <th>825365</th>\n      <td>0</td>\n      <td>-0.664820</td>\n      <td>-0.713793</td>\n      <td>-1.017112</td>\n      <td>-0.312124</td>\n      <td>-0.410244</td>\n      <td>-0.309446</td>\n      <td>-0.241912</td>\n      <td>-0.614352</td>\n      <td>-0.687516</td>\n      <td>...</td>\n      <td>-0.094353</td>\n      <td>-0.128128</td>\n      <td>-0.179739</td>\n      <td>-0.019663</td>\n      <td>-0.298725</td>\n      <td>-0.215009</td>\n      <td>-0.231211</td>\n      <td>-0.290060</td>\n      <td>-0.311814</td>\n      <td>0.926515</td>\n    </tr>\n    <tr>\n      <th>825366</th>\n      <td>0</td>\n      <td>-0.664820</td>\n      <td>-0.713727</td>\n      <td>-1.479701</td>\n      <td>-0.560476</td>\n      <td>-0.623220</td>\n      <td>-0.675306</td>\n      <td>-0.416305</td>\n      <td>-0.643884</td>\n      <td>-0.779501</td>\n      <td>...</td>\n      <td>-0.094353</td>\n      <td>-0.128128</td>\n      <td>-0.179739</td>\n      <td>-0.019663</td>\n      <td>-0.298725</td>\n      <td>-0.215009</td>\n      <td>-0.231211</td>\n      <td>-0.290060</td>\n      <td>-0.311814</td>\n      <td>0.926515</td>\n    </tr>\n    <tr>\n      <th>825367</th>\n      <td>0</td>\n      <td>0.572504</td>\n      <td>-0.713727</td>\n      <td>0.648209</td>\n      <td>-0.369880</td>\n      <td>-0.357000</td>\n      <td>-0.400911</td>\n      <td>-0.167172</td>\n      <td>-0.192845</td>\n      <td>-0.253144</td>\n      <td>...</td>\n      <td>-0.094353</td>\n      <td>-0.128128</td>\n      <td>-0.179739</td>\n      <td>-0.019663</td>\n      <td>-0.298725</td>\n      <td>-0.215009</td>\n      <td>-0.231211</td>\n      <td>3.447565</td>\n      <td>-0.311814</td>\n      <td>-1.079313</td>\n    </tr>\n  </tbody>\n</table>\n<p>825368 rows × 82 columns</p>\n</div>"
     },
     "execution_count": 7,
     "metadata": {},
     "output_type": "execute_result"
    }
   ],
   "source": [
    "# Standard scaling\n",
    "st_scaler = preprocessing.StandardScaler()\n",
    "kkbox_mat_stscale = st_scaler.fit_transform(kkbox_df_clean)\n",
    "\n",
    "# Put back into pandas df and keep original binary target variable\n",
    "kkbox_df_stscale = pd.DataFrame(kkbox_mat_stscale, columns=kkbox_df_clean.columns)\n",
    "kkbox_df_stscale[\"is_churn\"] = kkbox_df_clean[\"is_churn\"]\n",
    "\n",
    "kkbox_df_stscale"
   ],
   "metadata": {
    "collapsed": false,
    "pycharm": {
     "name": "#%%\n"
    }
   }
  },
  {
   "cell_type": "markdown",
   "source": [
    "## 2.5 Dimensionality Reduction: PCA"
   ],
   "metadata": {
    "collapsed": false,
    "pycharm": {
     "name": "#%% md\n"
    }
   }
  },
  {
   "cell_type": "code",
   "execution_count": 13,
   "outputs": [
    {
     "data": {
      "text/plain": "<Figure size 432x288 with 1 Axes>",
      "image/png": "[encoded data removed]"
     },
     "metadata": {
      "needs_background": "light"
     },
     "output_type": "display_data"
    }
   ],
   "source": [
    "# Find the best number of features to preserve the original data variance\n",
    "pca = PCA()\n",
    "pca.fit(kkbox_df_clean.drop(\"is_churn\", axis=1))\n",
    "cumsum = np.cumsum(pca.explained_variance_ratio_)\n",
    "\n",
    "# Plot elbow curve\n",
    "plt.figure(figsize=(6,4))\n",
    "plt.plot(cumsum, linewidth=3)\n",
    "plt.axis([0, 10, 0.95, 1.01])\n",
    "plt.xlabel(\"Dimensions\")\n",
    "plt.ylabel(\"Explained Variance\")\n",
    "plt.grid(True)\n",
    "plt.show()"
   ],
   "metadata": {
    "collapsed": false,
    "pycharm": {
     "name": "#%%\n"
    }
   }
  },
  {
   "cell_type": "markdown",
   "source": [
    "Already at a reduction to two dimensions, all of the variance of the the original data is preserved. Therefore, we reduce to two dimensions:"
   ],
   "metadata": {
    "collapsed": false,
    "pycharm": {
     "name": "#%% md\n"
    }
   }
  },
  {
   "cell_type": "code",
   "execution_count": 16,
   "outputs": [
    {
     "data": {
      "text/plain": "           pca_comp_1    pca_comp_2  is_churn\n0      -122318.696205  -2570.525262         1\n1       -59806.351056  -1882.514663         1\n2      -129191.361535   6196.598247         1\n3       129477.670623   9029.518709         1\n4      -119386.291707   6366.177210         1\n...               ...           ...       ...\n825363    1522.511019 -21618.614370         0\n825364  -52884.282385 -22190.552276         0\n825365 -119074.871134 -22861.961166         0\n825366 -128872.744066 -22963.243031         0\n825367  -48545.778119 -22077.611859         0\n\n[825368 rows x 3 columns]",
      "text/html": "<div>\n<style scoped>\n    .dataframe tbody tr th:only-of-type {\n        vertical-align: middle;\n    }\n\n    .dataframe tbody tr th {\n        vertical-align: top;\n    }\n\n    .dataframe thead th {\n        text-align: right;\n    }\n</style>\n<table border=\"1\" class=\"dataframe\">\n  <thead>\n    <tr style=\"text-align: right;\">\n      <th></th>\n      <th>pca_comp_1</th>\n      <th>pca_comp_2</th>\n      <th>is_churn</th>\n    </tr>\n  </thead>\n  <tbody>\n    <tr>\n      <th>0</th>\n      <td>-122318.696205</td>\n      <td>-2570.525262</td>\n      <td>1</td>\n    </tr>\n    <tr>\n      <th>1</th>\n      <td>-59806.351056</td>\n      <td>-1882.514663</td>\n      <td>1</td>\n    </tr>\n    <tr>\n      <th>2</th>\n      <td>-129191.361535</td>\n      <td>6196.598247</td>\n      <td>1</td>\n    </tr>\n    <tr>\n      <th>3</th>\n      <td>129477.670623</td>\n      <td>9029.518709</td>\n      <td>1</td>\n    </tr>\n    <tr>\n      <th>4</th>\n      <td>-119386.291707</td>\n      <td>6366.177210</td>\n      <td>1</td>\n    </tr>\n    <tr>\n      <th>...</th>\n      <td>...</td>\n      <td>...</td>\n      <td>...</td>\n    </tr>\n    <tr>\n      <th>825363</th>\n      <td>1522.511019</td>\n      <td>-21618.614370</td>\n      <td>0</td>\n    </tr>\n    <tr>\n      <th>825364</th>\n      <td>-52884.282385</td>\n      <td>-22190.552276</td>\n      <td>0</td>\n    </tr>\n    <tr>\n      <th>825365</th>\n      <td>-119074.871134</td>\n      <td>-22861.961166</td>\n      <td>0</td>\n    </tr>\n    <tr>\n      <th>825366</th>\n      <td>-128872.744066</td>\n      <td>-22963.243031</td>\n      <td>0</td>\n    </tr>\n    <tr>\n      <th>825367</th>\n      <td>-48545.778119</td>\n      <td>-22077.611859</td>\n      <td>0</td>\n    </tr>\n  </tbody>\n</table>\n<p>825368 rows × 3 columns</p>\n</div>"
     },
     "execution_count": 16,
     "metadata": {},
     "output_type": "execute_result"
    }
   ],
   "source": [
    "pca = PCA(n_components=2)\n",
    "kkbox_mat_pca = pca.fit_transform(kkbox_df_clean.drop(\"is_churn\", axis=1))\n",
    "\n",
    "# Put into data frame and add target\n",
    "kkbox_df_pca = pd.DataFrame(kkbox_mat_pca, columns=[\"pca_comp_1\", \"pca_comp_2\"])\n",
    "kkbox_df_pca[\"is_churn\"] = kkbox_df_clean[\"is_churn\"]\n",
    "\n",
    "kkbox_df_pca"
   ],
   "metadata": {
    "collapsed": false,
    "pycharm": {
     "name": "#%%\n"
    }
   }
  },
  {
   "cell_type": "markdown",
   "source": [
    "## 2.6 Dimensionality Reduction: T-SNE"
   ],
   "metadata": {
    "collapsed": false,
    "pycharm": {
     "name": "#%% md\n"
    }
   }
  },
  {
   "cell_type": "code",
   "execution_count": 18,
   "outputs": [
    {
     "data": {
      "text/plain": "          tsne_comp_1   tsne_comp_2  is_churn\n0      -122318.696205  -2570.525262         1\n1       -59806.351056  -1882.514663         1\n2      -129191.361535   6196.598247         1\n3       129477.670623   9029.518709         1\n4      -119386.291707   6366.177210         1\n...               ...           ...       ...\n825363    1522.511019 -21618.614370         0\n825364  -52884.282385 -22190.552276         0\n825365 -119074.871134 -22861.961166         0\n825366 -128872.744066 -22963.243031         0\n825367  -48545.778119 -22077.611859         0\n\n[825368 rows x 3 columns]",
      "text/html": "<div>\n<style scoped>\n    .dataframe tbody tr th:only-of-type {\n        vertical-align: middle;\n    }\n\n    .dataframe tbody tr th {\n        vertical-align: top;\n    }\n\n    .dataframe thead th {\n        text-align: right;\n    }\n</style>\n<table border=\"1\" class=\"dataframe\">\n  <thead>\n    <tr style=\"text-align: right;\">\n      <th></th>\n      <th>tsne_comp_1</th>\n      <th>tsne_comp_2</th>\n      <th>is_churn</th>\n    </tr>\n  </thead>\n  <tbody>\n    <tr>\n      <th>0</th>\n      <td>-122318.696205</td>\n      <td>-2570.525262</td>\n      <td>1</td>\n    </tr>\n    <tr>\n      <th>1</th>\n      <td>-59806.351056</td>\n      <td>-1882.514663</td>\n      <td>1</td>\n    </tr>\n    <tr>\n      <th>2</th>\n      <td>-129191.361535</td>\n      <td>6196.598247</td>\n      <td>1</td>\n    </tr>\n    <tr>\n      <th>3</th>\n      <td>129477.670623</td>\n      <td>9029.518709</td>\n      <td>1</td>\n    </tr>\n    <tr>\n      <th>4</th>\n      <td>-119386.291707</td>\n      <td>6366.177210</td>\n      <td>1</td>\n    </tr>\n    <tr>\n      <th>...</th>\n      <td>...</td>\n      <td>...</td>\n      <td>...</td>\n    </tr>\n    <tr>\n      <th>825363</th>\n      <td>1522.511019</td>\n      <td>-21618.614370</td>\n      <td>0</td>\n    </tr>\n    <tr>\n      <th>825364</th>\n      <td>-52884.282385</td>\n      <td>-22190.552276</td>\n      <td>0</td>\n    </tr>\n    <tr>\n      <th>825365</th>\n      <td>-119074.871134</td>\n      <td>-22861.961166</td>\n      <td>0</td>\n    </tr>\n    <tr>\n      <th>825366</th>\n      <td>-128872.744066</td>\n      <td>-22963.243031</td>\n      <td>0</td>\n    </tr>\n    <tr>\n      <th>825367</th>\n      <td>-48545.778119</td>\n      <td>-22077.611859</td>\n      <td>0</td>\n    </tr>\n  </tbody>\n</table>\n<p>825368 rows × 3 columns</p>\n</div>"
     },
     "execution_count": 18,
     "metadata": {},
     "output_type": "execute_result"
    }
   ],
   "source": [
    "tsne = TSNE(n_components=2)\n",
    "kkbox_mat_tsne = pca.fit_transform(kkbox_df_clean.drop(\"is_churn\", axis=1))\n",
    "\n",
    "# Put into data frame and add target\n",
    "kkbox_df_tsne = pd.DataFrame(kkbox_mat_tsne, columns=[\"tsne_comp_1\", \"tsne_comp_2\"])\n",
    "kkbox_df_tsne[\"is_churn\"] = kkbox_df_clean[\"is_churn\"]\n",
    "\n",
    "kkbox_df_tsne"
   ],
   "metadata": {
    "collapsed": false,
    "pycharm": {
     "name": "#%%\n"
    }
   }
  },
  {
   "cell_type": "markdown",
   "source": [
    "**Preprocessing Fazit:**\n",
    "We have conducted several techniques of data preprocessing to firstly clean our data and assure that we can train models on them without problems in the data frame *kkbox_df_clean* (no missing values & one-hot encoded categorical variables). Furthermore, we also created several versions of our base dataframe *kkbox_df_clean* which we can try out in the modelling stage if they lead to better models: we applied two types of normalization and scaling (*kkbox_df_mmnorm* & *kkbox_df_stscale*) and two types of dimensionality reduction (*kkbox_df_pca* & *kkbox_df_tsne*)."
   ],
   "metadata": {
    "collapsed": false,
    "pycharm": {
     "name": "#%% md\n"
    }
   }
  },
  {
   "cell_type": "markdown",
   "source": [
    "# 3 Modelling (Farouq)"
   ],
   "metadata": {
    "collapsed": false,
    "pycharm": {
     "name": "#%% md\n"
    }
   }
  },
  {
   "cell_type": "markdown",
   "source": [
    "# 4 Final Pipeline (Vaclav)"
   ],
   "metadata": {
    "collapsed": false,
    "pycharm": {
     "name": "#%% md\n"
    }
   }
  },
  {
   "cell_type": "markdown",
   "source": [
    "# 5 Business Implications (Arabella)"
   ],
   "metadata": {
    "collapsed": false,
    "pycharm": {
     "name": "#%% md\n"
    }
   }
  },
  {
   "cell_type": "code",
   "execution_count": null,
   "outputs": [],
   "source": [],
   "metadata": {
    "collapsed": false,
    "pycharm": {
     "name": "#%%\n"
    }
   }
  }
 ],
 "metadata": {
  "kernelspec": {
   "display_name": "Python 3",
   "language": "python",
   "name": "python3"
  },
  "language_info": {
   "codemirror_mode": {
    "name": "ipython",
    "version": 2
   },
   "file_extension": ".py",
   "mimetype": "text/x-python",
   "name": "python",
   "nbconvert_exporter": "python",
   "pygments_lexer": "ipython2",
   "version": "2.7.6"
  }
 },
 "nbformat": 4,
 "nbformat_minor": 0
}