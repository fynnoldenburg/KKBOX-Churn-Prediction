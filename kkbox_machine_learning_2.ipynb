{
 "cells": [
  {
   "cell_type": "code",
   "execution_count": 1,
   "outputs": [],
   "source": [
    "# Import packages\n",
    "import pandas as pd\n",
    "import numpy as np"
   ],
   "metadata": {
    "collapsed": false,
    "pycharm": {
     "name": "#%%\n"
    }
   }
  },
  {
   "cell_type": "markdown",
   "source": [
    "# 0 Exploratory Analysis"
   ],
   "metadata": {
    "collapsed": false
   }
  },
  {
   "cell_type": "code",
   "execution_count": 4,
   "outputs": [],
   "source": [
    "# Path to folder containing data file\n",
    "path = \"/Users/fynn/Desktop/ML/KKBOX-Data/\"\n",
    "\n",
    "# Import raw data\n",
    "kkbox_df = pd.read_csv(path + \"kkbox_churn.csv\")"
   ],
   "metadata": {
    "collapsed": false,
    "pycharm": {
     "name": "#%%\n"
    }
   }
  },
  {
   "cell_type": "markdown",
   "source": [
    "## 0.1 Summary Statistics"
   ],
   "metadata": {
    "collapsed": false,
    "pycharm": {
     "name": "#%% md\n"
    }
   }
  },
  {
   "cell_type": "code",
   "execution_count": 3,
   "outputs": [
    {
     "data": {
      "text/plain": "            is_churn           city             bd  registered_via  \\\ncount  970960.000000  860967.000000  860967.000000   860967.000000   \nmean        0.089942       5.937295      13.583854        6.892744   \nstd         0.286099       6.441203      20.064040        1.937794   \nmin         0.000000       1.000000   -3152.000000        3.000000   \n25%         0.000000       1.000000       0.000000        7.000000   \n50%         0.000000       1.000000       0.000000        7.000000   \n75%         0.000000      13.000000      27.000000        9.000000   \nmax         1.000000      22.000000    2016.000000       13.000000   \n\n       registration_init_time  count_userlogs_last_month  num_25_last_month  \\\ncount            8.609670e+05              754551.000000      754551.000000   \nmean             2.013265e+07                  17.935095         108.773786   \nstd              3.011174e+04                   9.676949         179.003032   \nmin              2.004033e+07                   1.000000           0.000000   \n25%              2.012021e+07                   9.000000          19.000000   \n50%              2.014060e+07                  19.000000          55.000000   \n75%              2.016012e+07                  27.000000         133.000000   \nmax              2.017042e+07                  31.000000       46820.000000   \n\n       num_50_last_month  num_75_last_month  num_985_last_month  ...  \\\ncount      754551.000000      754551.000000       754551.000000  ...   \nmean           26.257260          16.545723           18.713420  ...   \nstd            38.707599          22.399375           41.691069  ...   \nmin             0.000000           0.000000            0.000000  ...   \n25%             5.000000           3.000000            3.000000  ...   \n50%            14.000000          10.000000           10.000000  ...   \n75%            33.000000          22.000000           23.000000  ...   \nmax          3163.000000        1310.000000        15164.000000  ...   \n\n       num_985_last_week  num_100_last_week  num_unq_last_week  \\\ncount      667498.000000      667498.000000      667498.000000   \nmean            5.459781         152.540436         147.539888   \nstd            12.573304         210.558298         167.310346   \nmin             0.000000           0.000000           1.000000   \n25%             1.000000          32.000000          38.000000   \n50%             3.000000          87.000000          96.000000   \n75%             7.000000         188.000000         196.000000   \nmax          4048.000000       16884.000000        4292.000000   \n\n       total_secs_last_week  avg_payment_plan_days  avg_plan_list_price  \\\ncount          6.674980e+05          933578.000000        933578.000000   \nmean           3.993535e+04              33.668171           144.078964   \nstd            5.134569e+04              31.539039           133.629682   \nmin            3.400000e-02               0.000000             0.000000   \n25%            9.159578e+03              30.000000            99.000000   \n50%            2.386404e+04              30.000000           149.000000   \n75%            5.018832e+04              30.000000           149.000000   \nmax            4.196711e+06             450.000000          2000.000000   \n\n       avg_actual_amount_paid  last_payment_method_id  last_is_auto_renew  \\\ncount           933578.000000           933578.000000       933578.000000   \nmean               143.761684               38.899789            0.912113   \nstd                133.723976                3.785421            0.283130   \nmin                  0.000000                3.000000            0.000000   \n25%                 99.000000               38.000000            1.000000   \n50%                149.000000               41.000000            1.000000   \n75%                149.000000               41.000000            1.000000   \nmax               2000.000000               41.000000            1.000000   \n\n       memberdays_left  \ncount    933578.000000  \nmean        332.568452  \nstd        2003.127209  \nmin         -74.000000  \n25%          99.000000  \n50%         100.000000  \n75%         100.000000  \nmax       79281.000000  \n\n[8 rows x 26 columns]",
      "text/html": "<div>\n<style scoped>\n    .dataframe tbody tr th:only-of-type {\n        vertical-align: middle;\n    }\n\n    .dataframe tbody tr th {\n        vertical-align: top;\n    }\n\n    .dataframe thead th {\n        text-align: right;\n    }\n</style>\n<table border=\"1\" class=\"dataframe\">\n  <thead>\n    <tr style=\"text-align: right;\">\n      <th></th>\n      <th>is_churn</th>\n      <th>city</th>\n      <th>bd</th>\n      <th>registered_via</th>\n      <th>registration_init_time</th>\n      <th>count_userlogs_last_month</th>\n      <th>num_25_last_month</th>\n      <th>num_50_last_month</th>\n      <th>num_75_last_month</th>\n      <th>num_985_last_month</th>\n      <th>...</th>\n      <th>num_985_last_week</th>\n      <th>num_100_last_week</th>\n      <th>num_unq_last_week</th>\n      <th>total_secs_last_week</th>\n      <th>avg_payment_plan_days</th>\n      <th>avg_plan_list_price</th>\n      <th>avg_actual_amount_paid</th>\n      <th>last_payment_method_id</th>\n      <th>last_is_auto_renew</th>\n      <th>memberdays_left</th>\n    </tr>\n  </thead>\n  <tbody>\n    <tr>\n      <th>count</th>\n      <td>970960.000000</td>\n      <td>860967.000000</td>\n      <td>860967.000000</td>\n      <td>860967.000000</td>\n      <td>8.609670e+05</td>\n      <td>754551.000000</td>\n      <td>754551.000000</td>\n      <td>754551.000000</td>\n      <td>754551.000000</td>\n      <td>754551.000000</td>\n      <td>...</td>\n      <td>667498.000000</td>\n      <td>667498.000000</td>\n      <td>667498.000000</td>\n      <td>6.674980e+05</td>\n      <td>933578.000000</td>\n      <td>933578.000000</td>\n      <td>933578.000000</td>\n      <td>933578.000000</td>\n      <td>933578.000000</td>\n      <td>933578.000000</td>\n    </tr>\n    <tr>\n      <th>mean</th>\n      <td>0.089942</td>\n      <td>5.937295</td>\n      <td>13.583854</td>\n      <td>6.892744</td>\n      <td>2.013265e+07</td>\n      <td>17.935095</td>\n      <td>108.773786</td>\n      <td>26.257260</td>\n      <td>16.545723</td>\n      <td>18.713420</td>\n      <td>...</td>\n      <td>5.459781</td>\n      <td>152.540436</td>\n      <td>147.539888</td>\n      <td>3.993535e+04</td>\n      <td>33.668171</td>\n      <td>144.078964</td>\n      <td>143.761684</td>\n      <td>38.899789</td>\n      <td>0.912113</td>\n      <td>332.568452</td>\n    </tr>\n    <tr>\n      <th>std</th>\n      <td>0.286099</td>\n      <td>6.441203</td>\n      <td>20.064040</td>\n      <td>1.937794</td>\n      <td>3.011174e+04</td>\n      <td>9.676949</td>\n      <td>179.003032</td>\n      <td>38.707599</td>\n      <td>22.399375</td>\n      <td>41.691069</td>\n      <td>...</td>\n      <td>12.573304</td>\n      <td>210.558298</td>\n      <td>167.310346</td>\n      <td>5.134569e+04</td>\n      <td>31.539039</td>\n      <td>133.629682</td>\n      <td>133.723976</td>\n      <td>3.785421</td>\n      <td>0.283130</td>\n      <td>2003.127209</td>\n    </tr>\n    <tr>\n      <th>min</th>\n      <td>0.000000</td>\n      <td>1.000000</td>\n      <td>-3152.000000</td>\n      <td>3.000000</td>\n      <td>2.004033e+07</td>\n      <td>1.000000</td>\n      <td>0.000000</td>\n      <td>0.000000</td>\n      <td>0.000000</td>\n      <td>0.000000</td>\n      <td>...</td>\n      <td>0.000000</td>\n      <td>0.000000</td>\n      <td>1.000000</td>\n      <td>3.400000e-02</td>\n      <td>0.000000</td>\n      <td>0.000000</td>\n      <td>0.000000</td>\n      <td>3.000000</td>\n      <td>0.000000</td>\n      <td>-74.000000</td>\n    </tr>\n    <tr>\n      <th>25%</th>\n      <td>0.000000</td>\n      <td>1.000000</td>\n      <td>0.000000</td>\n      <td>7.000000</td>\n      <td>2.012021e+07</td>\n      <td>9.000000</td>\n      <td>19.000000</td>\n      <td>5.000000</td>\n      <td>3.000000</td>\n      <td>3.000000</td>\n      <td>...</td>\n      <td>1.000000</td>\n      <td>32.000000</td>\n      <td>38.000000</td>\n      <td>9.159578e+03</td>\n      <td>30.000000</td>\n      <td>99.000000</td>\n      <td>99.000000</td>\n      <td>38.000000</td>\n      <td>1.000000</td>\n      <td>99.000000</td>\n    </tr>\n    <tr>\n      <th>50%</th>\n      <td>0.000000</td>\n      <td>1.000000</td>\n      <td>0.000000</td>\n      <td>7.000000</td>\n      <td>2.014060e+07</td>\n      <td>19.000000</td>\n      <td>55.000000</td>\n      <td>14.000000</td>\n      <td>10.000000</td>\n      <td>10.000000</td>\n      <td>...</td>\n      <td>3.000000</td>\n      <td>87.000000</td>\n      <td>96.000000</td>\n      <td>2.386404e+04</td>\n      <td>30.000000</td>\n      <td>149.000000</td>\n      <td>149.000000</td>\n      <td>41.000000</td>\n      <td>1.000000</td>\n      <td>100.000000</td>\n    </tr>\n    <tr>\n      <th>75%</th>\n      <td>0.000000</td>\n      <td>13.000000</td>\n      <td>27.000000</td>\n      <td>9.000000</td>\n      <td>2.016012e+07</td>\n      <td>27.000000</td>\n      <td>133.000000</td>\n      <td>33.000000</td>\n      <td>22.000000</td>\n      <td>23.000000</td>\n      <td>...</td>\n      <td>7.000000</td>\n      <td>188.000000</td>\n      <td>196.000000</td>\n      <td>5.018832e+04</td>\n      <td>30.000000</td>\n      <td>149.000000</td>\n      <td>149.000000</td>\n      <td>41.000000</td>\n      <td>1.000000</td>\n      <td>100.000000</td>\n    </tr>\n    <tr>\n      <th>max</th>\n      <td>1.000000</td>\n      <td>22.000000</td>\n      <td>2016.000000</td>\n      <td>13.000000</td>\n      <td>2.017042e+07</td>\n      <td>31.000000</td>\n      <td>46820.000000</td>\n      <td>3163.000000</td>\n      <td>1310.000000</td>\n      <td>15164.000000</td>\n      <td>...</td>\n      <td>4048.000000</td>\n      <td>16884.000000</td>\n      <td>4292.000000</td>\n      <td>4.196711e+06</td>\n      <td>450.000000</td>\n      <td>2000.000000</td>\n      <td>2000.000000</td>\n      <td>41.000000</td>\n      <td>1.000000</td>\n      <td>79281.000000</td>\n    </tr>\n  </tbody>\n</table>\n<p>8 rows × 26 columns</p>\n</div>"
     },
     "execution_count": 3,
     "metadata": {},
     "output_type": "execute_result"
    }
   ],
   "source": [
    "kkbox_df.describe()"
   ],
   "metadata": {
    "collapsed": false,
    "pycharm": {
     "name": "#%%\n"
    }
   }
  },
  {
   "cell_type": "markdown",
   "source": [
    "## 0.2 Distributions"
   ],
   "metadata": {
    "collapsed": false,
    "pycharm": {
     "name": "#%% md\n"
    }
   }
  },
  {
   "cell_type": "markdown",
   "source": [
    "## 0.3 Correlations"
   ],
   "metadata": {
    "collapsed": false,
    "pycharm": {
     "name": "#%% md\n"
    }
   }
  },
  {
   "cell_type": "markdown",
   "source": [
    "## 0.4 Outlier Detection"
   ],
   "metadata": {
    "collapsed": false,
    "pycharm": {
     "name": "#%% md\n"
    }
   }
  },
  {
   "cell_type": "markdown",
   "source": [
    "## 0.5 Missing Value Detection"
   ],
   "metadata": {
    "collapsed": false,
    "pycharm": {
     "name": "#%% md\n"
    }
   }
  },
  {
   "cell_type": "markdown",
   "source": [
    "# 1 Data Preprocessing"
   ],
   "metadata": {
    "collapsed": false,
    "pycharm": {
     "name": "#%% md\n"
    }
   }
  },
  {
   "cell_type": "code",
   "execution_count": null,
   "outputs": [],
   "source": [],
   "metadata": {
    "collapsed": false,
    "pycharm": {
     "name": "#%%\n"
    }
   }
  },
  {
   "cell_type": "markdown",
   "source": [
    "## 1.1 Missing Values"
   ],
   "metadata": {
    "collapsed": false,
    "pycharm": {
     "name": "#%% md\n"
    }
   }
  },
  {
   "cell_type": "code",
   "execution_count": null,
   "outputs": [],
   "source": [],
   "metadata": {
    "collapsed": false,
    "pycharm": {
     "name": "#%%\n"
    }
   }
  }
 ],
 "metadata": {
  "kernelspec": {
   "display_name": "Python 3",
   "language": "python",
   "name": "python3"
  },
  "language_info": {
   "codemirror_mode": {
    "name": "ipython",
    "version": 2
   },
   "file_extension": ".py",
   "mimetype": "text/x-python",
   "name": "python",
   "nbconvert_exporter": "python",
   "pygments_lexer": "ipython2",
   "version": "2.7.6"
  }
 },
 "nbformat": 4,
 "nbformat_minor": 0
}